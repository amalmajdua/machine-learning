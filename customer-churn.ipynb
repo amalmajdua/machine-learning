{
 "cells": [
  {
   "cell_type": "markdown",
   "metadata": {},
   "source": [
    "# 1. Problem Statement <a id='problem'></a>"
   ]
  },
  {
   "cell_type": "markdown",
   "metadata": {},
   "source": [
    "Churn rate is a marketing metric that describes the number of customers who leave a business over a specific time period.\n",
    "Understanding and detecting churn is the first step to retaining these customers and improving the company’s offerings."
   ]
  },
  {
   "cell_type": "markdown",
   "metadata": {},
   "source": [
    "# 2. Data Dictionary <a id='dictionary'></a>"
   ]
  },
  {
   "cell_type": "markdown",
   "metadata": {},
   "source": [
    "1. **age**  Represents the age of a customer\n",
    "2. **gender** Represents the gender of a customer\n",
    "3. **security_no** \tRepresents a unique security number that is used to identify a person\n",
    "4. **region_category** \tRepresents the region that a customer belongs to \n",
    "5. **membership_category** \tRepresents the category of the membership that a customer is using\n",
    "6. **joining_date** \tRepresents the date when a customer became a member \n",
    "7. **joined_through_referral** \tRepresents whether a customer joined using any referral code or ID\n",
    "8. **referral_id \tRepresents** a referral ID\n",
    "9. **preferred_offer_types** \tRepresents the type of offer that a customer prefers\n",
    "10. **medium_of_operation** \tRepresents the medium of operation that a customer uses for transactions\n",
    "11. **internet_option** \tRepresents the type of internet service a customer uses\n",
    "12. **last_visit_time** \tRepresents the last time a customer visited the website\n",
    "13. **days_since_last_login** \tRepresents the no. of days since a customer last logged into the website\n",
    "14. **avg_time_spent** \tRepresents the average time spent by a customer on the website\n",
    "15. **avg_transaction_value** \tRepresents the average transaction value of a customer\n",
    "16. **avg_frequency_login_days** \tRepresents the no. of times a customer has logged in to the website\n",
    "17. **points_in_wallet** \tRepresents the points awarded to a customer on each transaction \n",
    "18. **used_special_discount** \tRepresents whether a customer uses special discounts offered\n",
    "19. **offer_application_preference** \tRepresents whether a customer prefers offers \n",
    "20. **past_complaint** \tRepresents whether a customer has raised any complaints \n",
    "21. **complaint_status** \tRepresents whether the complaints raised by a customer was resolved \n",
    "22. **feedback** \tRepresents the feedback provided by a customer\n",
    "23. **churn_risk_score** 0 or 1 [Customer will Stay or Exit]"
   ]
  },
  {
   "cell_type": "markdown",
   "metadata": {},
   "source": [
    "# 3. Import Libraries <a id='import_lib'></a>"
   ]
  },
  {
   "cell_type": "code",
   "execution_count": 148,
   "metadata": {
    "_cell_guid": "b1076dfc-b9ad-4769-8c92-a6c4dae69d19",
    "_uuid": "8f2839f25d086af736a60e9eeb907d3b93b6e0e5",
    "execution": {
     "iopub.execute_input": "2022-04-29T04:05:12.794598Z",
     "iopub.status.busy": "2022-04-29T04:05:12.794255Z",
     "iopub.status.idle": "2022-04-29T04:05:14.461078Z",
     "shell.execute_reply": "2022-04-29T04:05:14.460344Z",
     "shell.execute_reply.started": "2022-04-29T04:05:12.794557Z"
    }
   },
   "outputs": [],
   "source": [
    "import pydotplus\n",
    "import numpy as np\n",
    "import pandas as pd\n",
    "import seaborn as sns\n",
    "import matplotlib.pyplot as plt\n",
    "from sklearn.tree import export_graphviz\n",
    "\n",
    "from sklearn import tree\n",
    "from sklearn.impute import KNNImputer\n",
    "from sklearn.naive_bayes import GaussianNB\n",
    "from sklearn.linear_model import LogisticRegression\n",
    "from sklearn.neighbors import KNeighborsClassifier\n",
    "\n",
    "from sklearn.preprocessing import OrdinalEncoder, LabelEncoder, StandardScaler \n",
    "from sklearn.model_selection import train_test_split, GridSearchCV, cross_val_score, KFold\n",
    "from sklearn.ensemble import RandomForestClassifier, AdaBoostClassifier, VotingClassifier, StackingClassifier\n",
    "\n",
    "\n",
    "\n",
    "from xgboost import XGBClassifier\n",
    "from sklearn.metrics import *\n",
    "\n",
    "plt.rcParams['figure.figsize'] = [15,8]\n",
    "from IPython.display import Image  \n",
    "\n",
    "import warnings\n",
    "warnings.filterwarnings('ignore')"
   ]
  },
  {
   "cell_type": "markdown",
   "metadata": {},
   "source": [
    "# 4. Exploratory Data Analysis  <a id='data_preparation'></a>"
   ]
  },
  {
   "cell_type": "code",
   "execution_count": 149,
   "metadata": {
    "execution": {
     "iopub.execute_input": "2022-04-29T04:05:22.929668Z",
     "iopub.status.busy": "2022-04-29T04:05:22.928856Z",
     "iopub.status.idle": "2022-04-29T04:05:23.245383Z",
     "shell.execute_reply": "2022-04-29T04:05:23.244521Z",
     "shell.execute_reply.started": "2022-04-29T04:05:22.929623Z"
    }
   },
   "outputs": [],
   "source": [
    "data = pd.read_csv(r'.\\churn.csv', index_col=0)"
   ]
  },
  {
   "cell_type": "code",
   "execution_count": 150,
   "metadata": {
    "execution": {
     "iopub.execute_input": "2022-04-29T04:05:29.874692Z",
     "iopub.status.busy": "2022-04-29T04:05:29.874376Z",
     "iopub.status.idle": "2022-04-29T04:05:29.939761Z",
     "shell.execute_reply": "2022-04-29T04:05:29.938885Z",
     "shell.execute_reply.started": "2022-04-29T04:05:29.874657Z"
    }
   },
   "outputs": [
    {
     "data": {
      "text/html": [
       "<div>\n",
       "<style scoped>\n",
       "    .dataframe tbody tr th:only-of-type {\n",
       "        vertical-align: middle;\n",
       "    }\n",
       "\n",
       "    .dataframe tbody tr th {\n",
       "        vertical-align: top;\n",
       "    }\n",
       "\n",
       "    .dataframe thead th {\n",
       "        text-align: right;\n",
       "    }\n",
       "</style>\n",
       "<table border=\"1\" class=\"dataframe\">\n",
       "  <thead>\n",
       "    <tr style=\"text-align: right;\">\n",
       "      <th></th>\n",
       "      <th>age</th>\n",
       "      <th>gender</th>\n",
       "      <th>security_no</th>\n",
       "      <th>region_category</th>\n",
       "      <th>membership_category</th>\n",
       "      <th>joining_date</th>\n",
       "      <th>joined_through_referral</th>\n",
       "      <th>referral_id</th>\n",
       "      <th>preferred_offer_types</th>\n",
       "      <th>medium_of_operation</th>\n",
       "      <th>...</th>\n",
       "      <th>avg_time_spent</th>\n",
       "      <th>avg_transaction_value</th>\n",
       "      <th>avg_frequency_login_days</th>\n",
       "      <th>points_in_wallet</th>\n",
       "      <th>used_special_discount</th>\n",
       "      <th>offer_application_preference</th>\n",
       "      <th>past_complaint</th>\n",
       "      <th>complaint_status</th>\n",
       "      <th>feedback</th>\n",
       "      <th>churn_risk_score</th>\n",
       "    </tr>\n",
       "  </thead>\n",
       "  <tbody>\n",
       "    <tr>\n",
       "      <th>0</th>\n",
       "      <td>18</td>\n",
       "      <td>F</td>\n",
       "      <td>XW0DQ7H</td>\n",
       "      <td>Village</td>\n",
       "      <td>Platinum Membership</td>\n",
       "      <td>2017-08-17</td>\n",
       "      <td>No</td>\n",
       "      <td>xxxxxxxx</td>\n",
       "      <td>Gift Vouchers/Coupons</td>\n",
       "      <td>?</td>\n",
       "      <td>...</td>\n",
       "      <td>300.630000</td>\n",
       "      <td>53005.25</td>\n",
       "      <td>17.0</td>\n",
       "      <td>781.750000</td>\n",
       "      <td>Yes</td>\n",
       "      <td>Yes</td>\n",
       "      <td>No</td>\n",
       "      <td>Not Applicable</td>\n",
       "      <td>Products always in Stock</td>\n",
       "      <td>0</td>\n",
       "    </tr>\n",
       "    <tr>\n",
       "      <th>1</th>\n",
       "      <td>32</td>\n",
       "      <td>F</td>\n",
       "      <td>5K0N3X1</td>\n",
       "      <td>City</td>\n",
       "      <td>Premium Membership</td>\n",
       "      <td>2017-08-28</td>\n",
       "      <td>?</td>\n",
       "      <td>CID21329</td>\n",
       "      <td>Gift Vouchers/Coupons</td>\n",
       "      <td>Desktop</td>\n",
       "      <td>...</td>\n",
       "      <td>306.340000</td>\n",
       "      <td>12838.38</td>\n",
       "      <td>10.0</td>\n",
       "      <td>NaN</td>\n",
       "      <td>Yes</td>\n",
       "      <td>No</td>\n",
       "      <td>Yes</td>\n",
       "      <td>Solved</td>\n",
       "      <td>Quality Customer Care</td>\n",
       "      <td>0</td>\n",
       "    </tr>\n",
       "    <tr>\n",
       "      <th>2</th>\n",
       "      <td>44</td>\n",
       "      <td>F</td>\n",
       "      <td>1F2TCL3</td>\n",
       "      <td>Town</td>\n",
       "      <td>No Membership</td>\n",
       "      <td>2016-11-11</td>\n",
       "      <td>Yes</td>\n",
       "      <td>CID12313</td>\n",
       "      <td>Gift Vouchers/Coupons</td>\n",
       "      <td>Desktop</td>\n",
       "      <td>...</td>\n",
       "      <td>516.160000</td>\n",
       "      <td>21027.00</td>\n",
       "      <td>22.0</td>\n",
       "      <td>500.690000</td>\n",
       "      <td>No</td>\n",
       "      <td>Yes</td>\n",
       "      <td>Yes</td>\n",
       "      <td>Solved in Follow-up</td>\n",
       "      <td>Poor Website</td>\n",
       "      <td>1</td>\n",
       "    </tr>\n",
       "    <tr>\n",
       "      <th>3</th>\n",
       "      <td>37</td>\n",
       "      <td>M</td>\n",
       "      <td>VJGJ33N</td>\n",
       "      <td>City</td>\n",
       "      <td>No Membership</td>\n",
       "      <td>2016-10-29</td>\n",
       "      <td>Yes</td>\n",
       "      <td>CID3793</td>\n",
       "      <td>Gift Vouchers/Coupons</td>\n",
       "      <td>Desktop</td>\n",
       "      <td>...</td>\n",
       "      <td>53.270000</td>\n",
       "      <td>25239.56</td>\n",
       "      <td>6.0</td>\n",
       "      <td>567.660000</td>\n",
       "      <td>No</td>\n",
       "      <td>Yes</td>\n",
       "      <td>Yes</td>\n",
       "      <td>Unsolved</td>\n",
       "      <td>Poor Website</td>\n",
       "      <td>1</td>\n",
       "    </tr>\n",
       "    <tr>\n",
       "      <th>4</th>\n",
       "      <td>31</td>\n",
       "      <td>F</td>\n",
       "      <td>SVZXCWB</td>\n",
       "      <td>City</td>\n",
       "      <td>No Membership</td>\n",
       "      <td>2017-09-12</td>\n",
       "      <td>No</td>\n",
       "      <td>xxxxxxxx</td>\n",
       "      <td>Credit/Debit Card Offers</td>\n",
       "      <td>Smartphone</td>\n",
       "      <td>...</td>\n",
       "      <td>113.130000</td>\n",
       "      <td>24483.66</td>\n",
       "      <td>16.0</td>\n",
       "      <td>663.060000</td>\n",
       "      <td>No</td>\n",
       "      <td>Yes</td>\n",
       "      <td>Yes</td>\n",
       "      <td>Solved</td>\n",
       "      <td>Poor Website</td>\n",
       "      <td>1</td>\n",
       "    </tr>\n",
       "    <tr>\n",
       "      <th>...</th>\n",
       "      <td>...</td>\n",
       "      <td>...</td>\n",
       "      <td>...</td>\n",
       "      <td>...</td>\n",
       "      <td>...</td>\n",
       "      <td>...</td>\n",
       "      <td>...</td>\n",
       "      <td>...</td>\n",
       "      <td>...</td>\n",
       "      <td>...</td>\n",
       "      <td>...</td>\n",
       "      <td>...</td>\n",
       "      <td>...</td>\n",
       "      <td>...</td>\n",
       "      <td>...</td>\n",
       "      <td>...</td>\n",
       "      <td>...</td>\n",
       "      <td>...</td>\n",
       "      <td>...</td>\n",
       "      <td>...</td>\n",
       "      <td>...</td>\n",
       "    </tr>\n",
       "    <tr>\n",
       "      <th>36987</th>\n",
       "      <td>46</td>\n",
       "      <td>F</td>\n",
       "      <td>6F51HFO</td>\n",
       "      <td>NaN</td>\n",
       "      <td>Basic Membership</td>\n",
       "      <td>2017-09-21</td>\n",
       "      <td>No</td>\n",
       "      <td>xxxxxxxx</td>\n",
       "      <td>Credit/Debit Card Offers</td>\n",
       "      <td>Desktop</td>\n",
       "      <td>...</td>\n",
       "      <td>-650.682759</td>\n",
       "      <td>27277.68</td>\n",
       "      <td>6.0</td>\n",
       "      <td>639.510000</td>\n",
       "      <td>No</td>\n",
       "      <td>Yes</td>\n",
       "      <td>Yes</td>\n",
       "      <td>No Information Available</td>\n",
       "      <td>No reason specified</td>\n",
       "      <td>1</td>\n",
       "    </tr>\n",
       "    <tr>\n",
       "      <th>36988</th>\n",
       "      <td>29</td>\n",
       "      <td>F</td>\n",
       "      <td>21KSM8Y</td>\n",
       "      <td>Town</td>\n",
       "      <td>Basic Membership</td>\n",
       "      <td>2016-06-27</td>\n",
       "      <td>No</td>\n",
       "      <td>xxxxxxxx</td>\n",
       "      <td>Without Offers</td>\n",
       "      <td>Smartphone</td>\n",
       "      <td>...</td>\n",
       "      <td>-638.123421</td>\n",
       "      <td>11069.71</td>\n",
       "      <td>28.0</td>\n",
       "      <td>527.990000</td>\n",
       "      <td>Yes</td>\n",
       "      <td>No</td>\n",
       "      <td>No</td>\n",
       "      <td>Not Applicable</td>\n",
       "      <td>Poor Customer Service</td>\n",
       "      <td>1</td>\n",
       "    </tr>\n",
       "    <tr>\n",
       "      <th>36989</th>\n",
       "      <td>23</td>\n",
       "      <td>F</td>\n",
       "      <td>XK1IM9H</td>\n",
       "      <td>NaN</td>\n",
       "      <td>Basic Membership</td>\n",
       "      <td>2016-09-11</td>\n",
       "      <td>Yes</td>\n",
       "      <td>CID3838</td>\n",
       "      <td>Gift Vouchers/Coupons</td>\n",
       "      <td>Desktop</td>\n",
       "      <td>...</td>\n",
       "      <td>154.940000</td>\n",
       "      <td>38127.56</td>\n",
       "      <td>Error</td>\n",
       "      <td>680.470000</td>\n",
       "      <td>No</td>\n",
       "      <td>Yes</td>\n",
       "      <td>Yes</td>\n",
       "      <td>Unsolved</td>\n",
       "      <td>Poor Website</td>\n",
       "      <td>1</td>\n",
       "    </tr>\n",
       "    <tr>\n",
       "      <th>36990</th>\n",
       "      <td>53</td>\n",
       "      <td>M</td>\n",
       "      <td>K6VTP1Z</td>\n",
       "      <td>Village</td>\n",
       "      <td>Platinum Membership</td>\n",
       "      <td>2017-06-15</td>\n",
       "      <td>No</td>\n",
       "      <td>xxxxxxxx</td>\n",
       "      <td>Gift Vouchers/Coupons</td>\n",
       "      <td>Smartphone</td>\n",
       "      <td>...</td>\n",
       "      <td>482.610000</td>\n",
       "      <td>2378.86</td>\n",
       "      <td>20.0</td>\n",
       "      <td>197.264414</td>\n",
       "      <td>Yes</td>\n",
       "      <td>Yes</td>\n",
       "      <td>No</td>\n",
       "      <td>Not Applicable</td>\n",
       "      <td>No reason specified</td>\n",
       "      <td>0</td>\n",
       "    </tr>\n",
       "    <tr>\n",
       "      <th>36991</th>\n",
       "      <td>35</td>\n",
       "      <td>M</td>\n",
       "      <td>LBX0GLR</td>\n",
       "      <td>Town</td>\n",
       "      <td>Silver Membership</td>\n",
       "      <td>2015-10-23</td>\n",
       "      <td>No</td>\n",
       "      <td>xxxxxxxx</td>\n",
       "      <td>Gift Vouchers/Coupons</td>\n",
       "      <td>Desktop</td>\n",
       "      <td>...</td>\n",
       "      <td>79.180000</td>\n",
       "      <td>2189.68</td>\n",
       "      <td>Error</td>\n",
       "      <td>719.970000</td>\n",
       "      <td>Yes</td>\n",
       "      <td>No</td>\n",
       "      <td>No</td>\n",
       "      <td>Not Applicable</td>\n",
       "      <td>Quality Customer Care</td>\n",
       "      <td>0</td>\n",
       "    </tr>\n",
       "  </tbody>\n",
       "</table>\n",
       "<p>36992 rows × 23 columns</p>\n",
       "</div>"
      ],
      "text/plain": [
       "       age gender security_no region_category  membership_category  \\\n",
       "0       18      F     XW0DQ7H         Village  Platinum Membership   \n",
       "1       32      F     5K0N3X1            City   Premium Membership   \n",
       "2       44      F     1F2TCL3            Town        No Membership   \n",
       "3       37      M     VJGJ33N            City        No Membership   \n",
       "4       31      F     SVZXCWB            City        No Membership   \n",
       "...    ...    ...         ...             ...                  ...   \n",
       "36987   46      F     6F51HFO             NaN     Basic Membership   \n",
       "36988   29      F     21KSM8Y            Town     Basic Membership   \n",
       "36989   23      F     XK1IM9H             NaN     Basic Membership   \n",
       "36990   53      M     K6VTP1Z         Village  Platinum Membership   \n",
       "36991   35      M     LBX0GLR            Town    Silver Membership   \n",
       "\n",
       "      joining_date joined_through_referral referral_id  \\\n",
       "0       2017-08-17                      No    xxxxxxxx   \n",
       "1       2017-08-28                       ?    CID21329   \n",
       "2       2016-11-11                     Yes    CID12313   \n",
       "3       2016-10-29                     Yes     CID3793   \n",
       "4       2017-09-12                      No    xxxxxxxx   \n",
       "...            ...                     ...         ...   \n",
       "36987   2017-09-21                      No    xxxxxxxx   \n",
       "36988   2016-06-27                      No    xxxxxxxx   \n",
       "36989   2016-09-11                     Yes     CID3838   \n",
       "36990   2017-06-15                      No    xxxxxxxx   \n",
       "36991   2015-10-23                      No    xxxxxxxx   \n",
       "\n",
       "          preferred_offer_types medium_of_operation  ... avg_time_spent  \\\n",
       "0         Gift Vouchers/Coupons                   ?  ...     300.630000   \n",
       "1         Gift Vouchers/Coupons             Desktop  ...     306.340000   \n",
       "2         Gift Vouchers/Coupons             Desktop  ...     516.160000   \n",
       "3         Gift Vouchers/Coupons             Desktop  ...      53.270000   \n",
       "4      Credit/Debit Card Offers          Smartphone  ...     113.130000   \n",
       "...                         ...                 ...  ...            ...   \n",
       "36987  Credit/Debit Card Offers             Desktop  ...    -650.682759   \n",
       "36988            Without Offers          Smartphone  ...    -638.123421   \n",
       "36989     Gift Vouchers/Coupons             Desktop  ...     154.940000   \n",
       "36990     Gift Vouchers/Coupons          Smartphone  ...     482.610000   \n",
       "36991     Gift Vouchers/Coupons             Desktop  ...      79.180000   \n",
       "\n",
       "      avg_transaction_value  avg_frequency_login_days  points_in_wallet  \\\n",
       "0                  53005.25                      17.0        781.750000   \n",
       "1                  12838.38                      10.0               NaN   \n",
       "2                  21027.00                      22.0        500.690000   \n",
       "3                  25239.56                       6.0        567.660000   \n",
       "4                  24483.66                      16.0        663.060000   \n",
       "...                     ...                       ...               ...   \n",
       "36987              27277.68                       6.0        639.510000   \n",
       "36988              11069.71                      28.0        527.990000   \n",
       "36989              38127.56                     Error        680.470000   \n",
       "36990               2378.86                      20.0        197.264414   \n",
       "36991               2189.68                     Error        719.970000   \n",
       "\n",
       "       used_special_discount offer_application_preference  past_complaint  \\\n",
       "0                        Yes                          Yes              No   \n",
       "1                        Yes                           No             Yes   \n",
       "2                         No                          Yes             Yes   \n",
       "3                         No                          Yes             Yes   \n",
       "4                         No                          Yes             Yes   \n",
       "...                      ...                          ...             ...   \n",
       "36987                     No                          Yes             Yes   \n",
       "36988                    Yes                           No              No   \n",
       "36989                     No                          Yes             Yes   \n",
       "36990                    Yes                          Yes              No   \n",
       "36991                    Yes                           No              No   \n",
       "\n",
       "               complaint_status                  feedback churn_risk_score  \n",
       "0                Not Applicable  Products always in Stock                0  \n",
       "1                        Solved     Quality Customer Care                0  \n",
       "2           Solved in Follow-up              Poor Website                1  \n",
       "3                      Unsolved              Poor Website                1  \n",
       "4                        Solved              Poor Website                1  \n",
       "...                         ...                       ...              ...  \n",
       "36987  No Information Available       No reason specified                1  \n",
       "36988            Not Applicable     Poor Customer Service                1  \n",
       "36989                  Unsolved              Poor Website                1  \n",
       "36990            Not Applicable       No reason specified                0  \n",
       "36991            Not Applicable     Quality Customer Care                0  \n",
       "\n",
       "[36992 rows x 23 columns]"
      ]
     },
     "execution_count": 150,
     "metadata": {},
     "output_type": "execute_result"
    }
   ],
   "source": [
    "data"
   ]
  },
  {
   "cell_type": "markdown",
   "metadata": {},
   "source": [
    "## 4.1 Data Dimensions <a id='Data_Shape'></a>"
   ]
  },
  {
   "cell_type": "code",
   "execution_count": 151,
   "metadata": {
    "execution": {
     "iopub.execute_input": "2022-04-29T04:05:36.505653Z",
     "iopub.status.busy": "2022-04-29T04:05:36.505304Z",
     "iopub.status.idle": "2022-04-29T04:05:36.511052Z",
     "shell.execute_reply": "2022-04-29T04:05:36.510160Z",
     "shell.execute_reply.started": "2022-04-29T04:05:36.505620Z"
    }
   },
   "outputs": [
    {
     "name": "stdout",
     "output_type": "stream",
     "text": [
      "There are 36992 data points and 23 features in the dataset\n"
     ]
    }
   ],
   "source": [
    "print(f'There are {data.shape[0]} data points and {data.shape[1]} features in the dataset')"
   ]
  },
  {
   "cell_type": "markdown",
   "metadata": {},
   "source": [
    "## 4.2 Data Types <a id='Data_Types'></a>"
   ]
  },
  {
   "cell_type": "code",
   "execution_count": 152,
   "metadata": {
    "execution": {
     "iopub.execute_input": "2022-04-29T04:05:40.014286Z",
     "iopub.status.busy": "2022-04-29T04:05:40.013757Z",
     "iopub.status.idle": "2022-04-29T04:05:40.021166Z",
     "shell.execute_reply": "2022-04-29T04:05:40.020586Z",
     "shell.execute_reply.started": "2022-04-29T04:05:40.014248Z"
    }
   },
   "outputs": [
    {
     "data": {
      "text/plain": [
       "age                               int64\n",
       "gender                           object\n",
       "security_no                      object\n",
       "region_category                  object\n",
       "membership_category              object\n",
       "joining_date                     object\n",
       "joined_through_referral          object\n",
       "referral_id                      object\n",
       "preferred_offer_types            object\n",
       "medium_of_operation              object\n",
       "internet_option                  object\n",
       "last_visit_time                  object\n",
       "days_since_last_login             int64\n",
       "avg_time_spent                  float64\n",
       "avg_transaction_value           float64\n",
       "avg_frequency_login_days         object\n",
       "points_in_wallet                float64\n",
       "used_special_discount            object\n",
       "offer_application_preference     object\n",
       "past_complaint                   object\n",
       "complaint_status                 object\n",
       "feedback                         object\n",
       "churn_risk_score                  int64\n",
       "dtype: object"
      ]
     },
     "execution_count": 152,
     "metadata": {},
     "output_type": "execute_result"
    }
   ],
   "source": [
    "data.dtypes"
   ]
  },
  {
   "cell_type": "code",
   "execution_count": 153,
   "metadata": {
    "execution": {
     "iopub.execute_input": "2022-04-29T04:05:43.700772Z",
     "iopub.status.busy": "2022-04-29T04:05:43.700303Z",
     "iopub.status.idle": "2022-04-29T04:05:43.716221Z",
     "shell.execute_reply": "2022-04-29T04:05:43.715242Z",
     "shell.execute_reply.started": "2022-04-29T04:05:43.700732Z"
    }
   },
   "outputs": [
    {
     "data": {
      "text/html": [
       "<div>\n",
       "<style scoped>\n",
       "    .dataframe tbody tr th:only-of-type {\n",
       "        vertical-align: middle;\n",
       "    }\n",
       "\n",
       "    .dataframe tbody tr th {\n",
       "        vertical-align: top;\n",
       "    }\n",
       "\n",
       "    .dataframe thead th {\n",
       "        text-align: right;\n",
       "    }\n",
       "</style>\n",
       "<table border=\"1\" class=\"dataframe\">\n",
       "  <thead>\n",
       "    <tr style=\"text-align: right;\">\n",
       "      <th></th>\n",
       "      <th>age</th>\n",
       "      <th>days_since_last_login</th>\n",
       "      <th>avg_time_spent</th>\n",
       "      <th>avg_transaction_value</th>\n",
       "      <th>points_in_wallet</th>\n",
       "      <th>churn_risk_score</th>\n",
       "    </tr>\n",
       "  </thead>\n",
       "  <tbody>\n",
       "    <tr>\n",
       "      <th>0</th>\n",
       "      <td>18</td>\n",
       "      <td>17</td>\n",
       "      <td>300.63</td>\n",
       "      <td>53005.25</td>\n",
       "      <td>781.75</td>\n",
       "      <td>0</td>\n",
       "    </tr>\n",
       "    <tr>\n",
       "      <th>1</th>\n",
       "      <td>32</td>\n",
       "      <td>16</td>\n",
       "      <td>306.34</td>\n",
       "      <td>12838.38</td>\n",
       "      <td>NaN</td>\n",
       "      <td>0</td>\n",
       "    </tr>\n",
       "    <tr>\n",
       "      <th>2</th>\n",
       "      <td>44</td>\n",
       "      <td>14</td>\n",
       "      <td>516.16</td>\n",
       "      <td>21027.00</td>\n",
       "      <td>500.69</td>\n",
       "      <td>1</td>\n",
       "    </tr>\n",
       "    <tr>\n",
       "      <th>3</th>\n",
       "      <td>37</td>\n",
       "      <td>11</td>\n",
       "      <td>53.27</td>\n",
       "      <td>25239.56</td>\n",
       "      <td>567.66</td>\n",
       "      <td>1</td>\n",
       "    </tr>\n",
       "    <tr>\n",
       "      <th>4</th>\n",
       "      <td>31</td>\n",
       "      <td>20</td>\n",
       "      <td>113.13</td>\n",
       "      <td>24483.66</td>\n",
       "      <td>663.06</td>\n",
       "      <td>1</td>\n",
       "    </tr>\n",
       "  </tbody>\n",
       "</table>\n",
       "</div>"
      ],
      "text/plain": [
       "   age  days_since_last_login  avg_time_spent  avg_transaction_value  \\\n",
       "0   18                     17          300.63               53005.25   \n",
       "1   32                     16          306.34               12838.38   \n",
       "2   44                     14          516.16               21027.00   \n",
       "3   37                     11           53.27               25239.56   \n",
       "4   31                     20          113.13               24483.66   \n",
       "\n",
       "   points_in_wallet  churn_risk_score  \n",
       "0            781.75                 0  \n",
       "1               NaN                 0  \n",
       "2            500.69                 1  \n",
       "3            567.66                 1  \n",
       "4            663.06                 1  "
      ]
     },
     "execution_count": 153,
     "metadata": {},
     "output_type": "execute_result"
    }
   ],
   "source": [
    "data.select_dtypes(include=[np.number]).head()"
   ]
  },
  {
   "cell_type": "code",
   "execution_count": 154,
   "metadata": {
    "execution": {
     "iopub.execute_input": "2022-04-29T04:05:48.690808Z",
     "iopub.status.busy": "2022-04-29T04:05:48.690550Z",
     "iopub.status.idle": "2022-04-29T04:05:48.716336Z",
     "shell.execute_reply": "2022-04-29T04:05:48.715249Z",
     "shell.execute_reply.started": "2022-04-29T04:05:48.690781Z"
    }
   },
   "outputs": [
    {
     "data": {
      "text/html": [
       "<div>\n",
       "<style scoped>\n",
       "    .dataframe tbody tr th:only-of-type {\n",
       "        vertical-align: middle;\n",
       "    }\n",
       "\n",
       "    .dataframe tbody tr th {\n",
       "        vertical-align: top;\n",
       "    }\n",
       "\n",
       "    .dataframe thead th {\n",
       "        text-align: right;\n",
       "    }\n",
       "</style>\n",
       "<table border=\"1\" class=\"dataframe\">\n",
       "  <thead>\n",
       "    <tr style=\"text-align: right;\">\n",
       "      <th></th>\n",
       "      <th>gender</th>\n",
       "      <th>security_no</th>\n",
       "      <th>region_category</th>\n",
       "      <th>membership_category</th>\n",
       "      <th>joining_date</th>\n",
       "      <th>joined_through_referral</th>\n",
       "      <th>referral_id</th>\n",
       "      <th>preferred_offer_types</th>\n",
       "      <th>medium_of_operation</th>\n",
       "      <th>internet_option</th>\n",
       "      <th>last_visit_time</th>\n",
       "      <th>avg_frequency_login_days</th>\n",
       "      <th>used_special_discount</th>\n",
       "      <th>offer_application_preference</th>\n",
       "      <th>past_complaint</th>\n",
       "      <th>complaint_status</th>\n",
       "      <th>feedback</th>\n",
       "    </tr>\n",
       "  </thead>\n",
       "  <tbody>\n",
       "    <tr>\n",
       "      <th>0</th>\n",
       "      <td>F</td>\n",
       "      <td>XW0DQ7H</td>\n",
       "      <td>Village</td>\n",
       "      <td>Platinum Membership</td>\n",
       "      <td>2017-08-17</td>\n",
       "      <td>No</td>\n",
       "      <td>xxxxxxxx</td>\n",
       "      <td>Gift Vouchers/Coupons</td>\n",
       "      <td>?</td>\n",
       "      <td>Wi-Fi</td>\n",
       "      <td>16:08:02</td>\n",
       "      <td>17.0</td>\n",
       "      <td>Yes</td>\n",
       "      <td>Yes</td>\n",
       "      <td>No</td>\n",
       "      <td>Not Applicable</td>\n",
       "      <td>Products always in Stock</td>\n",
       "    </tr>\n",
       "    <tr>\n",
       "      <th>1</th>\n",
       "      <td>F</td>\n",
       "      <td>5K0N3X1</td>\n",
       "      <td>City</td>\n",
       "      <td>Premium Membership</td>\n",
       "      <td>2017-08-28</td>\n",
       "      <td>?</td>\n",
       "      <td>CID21329</td>\n",
       "      <td>Gift Vouchers/Coupons</td>\n",
       "      <td>Desktop</td>\n",
       "      <td>Mobile_Data</td>\n",
       "      <td>12:38:13</td>\n",
       "      <td>10.0</td>\n",
       "      <td>Yes</td>\n",
       "      <td>No</td>\n",
       "      <td>Yes</td>\n",
       "      <td>Solved</td>\n",
       "      <td>Quality Customer Care</td>\n",
       "    </tr>\n",
       "    <tr>\n",
       "      <th>2</th>\n",
       "      <td>F</td>\n",
       "      <td>1F2TCL3</td>\n",
       "      <td>Town</td>\n",
       "      <td>No Membership</td>\n",
       "      <td>2016-11-11</td>\n",
       "      <td>Yes</td>\n",
       "      <td>CID12313</td>\n",
       "      <td>Gift Vouchers/Coupons</td>\n",
       "      <td>Desktop</td>\n",
       "      <td>Wi-Fi</td>\n",
       "      <td>22:53:21</td>\n",
       "      <td>22.0</td>\n",
       "      <td>No</td>\n",
       "      <td>Yes</td>\n",
       "      <td>Yes</td>\n",
       "      <td>Solved in Follow-up</td>\n",
       "      <td>Poor Website</td>\n",
       "    </tr>\n",
       "    <tr>\n",
       "      <th>3</th>\n",
       "      <td>M</td>\n",
       "      <td>VJGJ33N</td>\n",
       "      <td>City</td>\n",
       "      <td>No Membership</td>\n",
       "      <td>2016-10-29</td>\n",
       "      <td>Yes</td>\n",
       "      <td>CID3793</td>\n",
       "      <td>Gift Vouchers/Coupons</td>\n",
       "      <td>Desktop</td>\n",
       "      <td>Mobile_Data</td>\n",
       "      <td>15:57:50</td>\n",
       "      <td>6.0</td>\n",
       "      <td>No</td>\n",
       "      <td>Yes</td>\n",
       "      <td>Yes</td>\n",
       "      <td>Unsolved</td>\n",
       "      <td>Poor Website</td>\n",
       "    </tr>\n",
       "    <tr>\n",
       "      <th>4</th>\n",
       "      <td>F</td>\n",
       "      <td>SVZXCWB</td>\n",
       "      <td>City</td>\n",
       "      <td>No Membership</td>\n",
       "      <td>2017-09-12</td>\n",
       "      <td>No</td>\n",
       "      <td>xxxxxxxx</td>\n",
       "      <td>Credit/Debit Card Offers</td>\n",
       "      <td>Smartphone</td>\n",
       "      <td>Mobile_Data</td>\n",
       "      <td>15:46:44</td>\n",
       "      <td>16.0</td>\n",
       "      <td>No</td>\n",
       "      <td>Yes</td>\n",
       "      <td>Yes</td>\n",
       "      <td>Solved</td>\n",
       "      <td>Poor Website</td>\n",
       "    </tr>\n",
       "  </tbody>\n",
       "</table>\n",
       "</div>"
      ],
      "text/plain": [
       "  gender security_no region_category  membership_category joining_date  \\\n",
       "0      F     XW0DQ7H         Village  Platinum Membership   2017-08-17   \n",
       "1      F     5K0N3X1            City   Premium Membership   2017-08-28   \n",
       "2      F     1F2TCL3            Town        No Membership   2016-11-11   \n",
       "3      M     VJGJ33N            City        No Membership   2016-10-29   \n",
       "4      F     SVZXCWB            City        No Membership   2017-09-12   \n",
       "\n",
       "  joined_through_referral referral_id     preferred_offer_types  \\\n",
       "0                      No    xxxxxxxx     Gift Vouchers/Coupons   \n",
       "1                       ?    CID21329     Gift Vouchers/Coupons   \n",
       "2                     Yes    CID12313     Gift Vouchers/Coupons   \n",
       "3                     Yes     CID3793     Gift Vouchers/Coupons   \n",
       "4                      No    xxxxxxxx  Credit/Debit Card Offers   \n",
       "\n",
       "  medium_of_operation internet_option last_visit_time  \\\n",
       "0                   ?           Wi-Fi        16:08:02   \n",
       "1             Desktop     Mobile_Data        12:38:13   \n",
       "2             Desktop           Wi-Fi        22:53:21   \n",
       "3             Desktop     Mobile_Data        15:57:50   \n",
       "4          Smartphone     Mobile_Data        15:46:44   \n",
       "\n",
       "  avg_frequency_login_days used_special_discount offer_application_preference  \\\n",
       "0                     17.0                   Yes                          Yes   \n",
       "1                     10.0                   Yes                           No   \n",
       "2                     22.0                    No                          Yes   \n",
       "3                      6.0                    No                          Yes   \n",
       "4                     16.0                    No                          Yes   \n",
       "\n",
       "  past_complaint     complaint_status                  feedback  \n",
       "0             No       Not Applicable  Products always in Stock  \n",
       "1            Yes               Solved     Quality Customer Care  \n",
       "2            Yes  Solved in Follow-up              Poor Website  \n",
       "3            Yes             Unsolved              Poor Website  \n",
       "4            Yes               Solved              Poor Website  "
      ]
     },
     "execution_count": 154,
     "metadata": {},
     "output_type": "execute_result"
    }
   ],
   "source": [
    "data.select_dtypes(include=['object']).head()"
   ]
  },
  {
   "cell_type": "markdown",
   "metadata": {},
   "source": [
    "<table align=\"left\">\n",
    "    <tr>\n",
    "        <td>\n",
    "            <div align=\"left\", style=\"font-size:120%\">\n",
    "                <font color=\"#21618C\">\n",
    "                    <b>\n",
    "                      There are 17 categorical variables and 6 numerical variables.\n",
    "                     </b>\n",
    "                </font>\n",
    "            </div>\n",
    "        </td>\n",
    "    </tr>\n",
    "</table>"
   ]
  },
  {
   "cell_type": "markdown",
   "metadata": {},
   "source": [
    "## 4.3 Data Distribution <a id='dist'></a>"
   ]
  },
  {
   "cell_type": "markdown",
   "metadata": {},
   "source": [
    "### 4.5.1 Data Distribution of Features <a id='dist_feature'></a>"
   ]
  },
  {
   "cell_type": "code",
   "execution_count": 155,
   "metadata": {
    "execution": {
     "iopub.execute_input": "2022-04-29T04:22:14.492467Z",
     "iopub.status.busy": "2022-04-29T04:22:14.492157Z",
     "iopub.status.idle": "2022-04-29T04:22:16.324075Z",
     "shell.execute_reply": "2022-04-29T04:22:16.323385Z",
     "shell.execute_reply.started": "2022-04-29T04:22:14.492426Z"
    }
   },
   "outputs": [
    {
     "data": {
      "image/png": "[encoded data removed]",
      "text/plain": [
       "<Figure size 1080x576 with 1 Axes>"
      ]
     },
     "metadata": {
      "needs_background": "light"
     },
     "output_type": "display_data"
    }
   ],
   "source": [
    "plot1= sns.kdeplot(x = data['age']) "
   ]
  },
  {
   "cell_type": "code",
   "execution_count": 156,
   "metadata": {
    "execution": {
     "iopub.execute_input": "2022-04-29T04:22:23.366672Z",
     "iopub.status.busy": "2022-04-29T04:22:23.366158Z",
     "iopub.status.idle": "2022-04-29T04:22:25.835998Z",
     "shell.execute_reply": "2022-04-29T04:22:25.835089Z",
     "shell.execute_reply.started": "2022-04-29T04:22:23.366620Z"
    }
   },
   "outputs": [
    {
     "data": {
      "image/png": "[encoded data removed]",
      "text/plain": [
       "<Figure size 1080x576 with 1 Axes>"
      ]
     },
     "metadata": {
      "needs_background": "light"
     },
     "output_type": "display_data"
    }
   ],
   "source": [
    "plot2=data.plot.scatter(x='age', y='avg_time_spent')"
   ]
  },
  {
   "cell_type": "code",
   "execution_count": 157,
   "metadata": {
    "execution": {
     "iopub.execute_input": "2022-04-29T07:16:28.745431Z",
     "iopub.status.busy": "2022-04-29T07:16:28.745104Z",
     "iopub.status.idle": "2022-04-29T07:16:29.028897Z",
     "shell.execute_reply": "2022-04-29T07:16:29.028013Z",
     "shell.execute_reply.started": "2022-04-29T07:16:28.745394Z"
    }
   },
   "outputs": [
    {
     "data": {
      "text/plain": [
       "Text(0.5, 0, 'region_category')"
      ]
     },
     "execution_count": 157,
     "metadata": {},
     "output_type": "execute_result"
    },
    {
     "data": {
      "image/png": "[encoded data removed]",
      "text/plain": [
       "<Figure size 1080x576 with 1 Axes>"
      ]
     },
     "metadata": {
      "needs_background": "light"
     },
     "output_type": "display_data"
    }
   ],
   "source": [
    "z = sns.countplot(x = data['region_category']) \n",
    "z.set_xlabel('region_category', fontsize = 20)\n"
   ]
  },
  {
   "cell_type": "markdown",
   "metadata": {},
   "source": [
    "# 5. Data Preprocessing   <a id='data_pre'></a>"
   ]
  },
  {
   "cell_type": "markdown",
   "metadata": {},
   "source": [
    "## 5.1 Missing values <a id='Missing_Values'></a>"
   ]
  },
  {
   "cell_type": "markdown",
   "metadata": {},
   "source": [
    "### 5.1.1 Standard Missing Values  <a id='S_Missing_Values'></a>"
   ]
  },
  {
   "cell_type": "code",
   "execution_count": 158,
   "metadata": {
    "execution": {
     "iopub.execute_input": "2022-04-29T04:43:32.706094Z",
     "iopub.status.busy": "2022-04-29T04:43:32.705806Z",
     "iopub.status.idle": "2022-04-29T04:43:32.775196Z",
     "shell.execute_reply": "2022-04-29T04:43:32.774380Z",
     "shell.execute_reply.started": "2022-04-29T04:43:32.706063Z"
    }
   },
   "outputs": [
    {
     "data": {
      "text/html": [
       "<div>\n",
       "<style scoped>\n",
       "    .dataframe tbody tr th:only-of-type {\n",
       "        vertical-align: middle;\n",
       "    }\n",
       "\n",
       "    .dataframe tbody tr th {\n",
       "        vertical-align: top;\n",
       "    }\n",
       "\n",
       "    .dataframe thead th {\n",
       "        text-align: right;\n",
       "    }\n",
       "</style>\n",
       "<table border=\"1\" class=\"dataframe\">\n",
       "  <thead>\n",
       "    <tr style=\"text-align: right;\">\n",
       "      <th></th>\n",
       "      <th>missing_values</th>\n",
       "      <th>percentage</th>\n",
       "    </tr>\n",
       "  </thead>\n",
       "  <tbody>\n",
       "    <tr>\n",
       "      <th>region_category</th>\n",
       "      <td>5428</td>\n",
       "      <td>14.673443</td>\n",
       "    </tr>\n",
       "    <tr>\n",
       "      <th>points_in_wallet</th>\n",
       "      <td>3443</td>\n",
       "      <td>9.307418</td>\n",
       "    </tr>\n",
       "    <tr>\n",
       "      <th>preferred_offer_types</th>\n",
       "      <td>288</td>\n",
       "      <td>0.778547</td>\n",
       "    </tr>\n",
       "    <tr>\n",
       "      <th>age</th>\n",
       "      <td>0</td>\n",
       "      <td>0.000000</td>\n",
       "    </tr>\n",
       "    <tr>\n",
       "      <th>avg_time_spent</th>\n",
       "      <td>0</td>\n",
       "      <td>0.000000</td>\n",
       "    </tr>\n",
       "    <tr>\n",
       "      <th>feedback</th>\n",
       "      <td>0</td>\n",
       "      <td>0.000000</td>\n",
       "    </tr>\n",
       "    <tr>\n",
       "      <th>complaint_status</th>\n",
       "      <td>0</td>\n",
       "      <td>0.000000</td>\n",
       "    </tr>\n",
       "    <tr>\n",
       "      <th>past_complaint</th>\n",
       "      <td>0</td>\n",
       "      <td>0.000000</td>\n",
       "    </tr>\n",
       "    <tr>\n",
       "      <th>offer_application_preference</th>\n",
       "      <td>0</td>\n",
       "      <td>0.000000</td>\n",
       "    </tr>\n",
       "    <tr>\n",
       "      <th>used_special_discount</th>\n",
       "      <td>0</td>\n",
       "      <td>0.000000</td>\n",
       "    </tr>\n",
       "    <tr>\n",
       "      <th>avg_frequency_login_days</th>\n",
       "      <td>0</td>\n",
       "      <td>0.000000</td>\n",
       "    </tr>\n",
       "    <tr>\n",
       "      <th>avg_transaction_value</th>\n",
       "      <td>0</td>\n",
       "      <td>0.000000</td>\n",
       "    </tr>\n",
       "    <tr>\n",
       "      <th>last_visit_time</th>\n",
       "      <td>0</td>\n",
       "      <td>0.000000</td>\n",
       "    </tr>\n",
       "    <tr>\n",
       "      <th>days_since_last_login</th>\n",
       "      <td>0</td>\n",
       "      <td>0.000000</td>\n",
       "    </tr>\n",
       "    <tr>\n",
       "      <th>gender</th>\n",
       "      <td>0</td>\n",
       "      <td>0.000000</td>\n",
       "    </tr>\n",
       "    <tr>\n",
       "      <th>internet_option</th>\n",
       "      <td>0</td>\n",
       "      <td>0.000000</td>\n",
       "    </tr>\n",
       "    <tr>\n",
       "      <th>medium_of_operation</th>\n",
       "      <td>0</td>\n",
       "      <td>0.000000</td>\n",
       "    </tr>\n",
       "    <tr>\n",
       "      <th>referral_id</th>\n",
       "      <td>0</td>\n",
       "      <td>0.000000</td>\n",
       "    </tr>\n",
       "    <tr>\n",
       "      <th>joined_through_referral</th>\n",
       "      <td>0</td>\n",
       "      <td>0.000000</td>\n",
       "    </tr>\n",
       "    <tr>\n",
       "      <th>joining_date</th>\n",
       "      <td>0</td>\n",
       "      <td>0.000000</td>\n",
       "    </tr>\n",
       "    <tr>\n",
       "      <th>membership_category</th>\n",
       "      <td>0</td>\n",
       "      <td>0.000000</td>\n",
       "    </tr>\n",
       "    <tr>\n",
       "      <th>security_no</th>\n",
       "      <td>0</td>\n",
       "      <td>0.000000</td>\n",
       "    </tr>\n",
       "    <tr>\n",
       "      <th>churn_risk_score</th>\n",
       "      <td>0</td>\n",
       "      <td>0.000000</td>\n",
       "    </tr>\n",
       "  </tbody>\n",
       "</table>\n",
       "</div>"
      ],
      "text/plain": [
       "                              missing_values  percentage\n",
       "region_category                         5428   14.673443\n",
       "points_in_wallet                        3443    9.307418\n",
       "preferred_offer_types                    288    0.778547\n",
       "age                                        0    0.000000\n",
       "avg_time_spent                             0    0.000000\n",
       "feedback                                   0    0.000000\n",
       "complaint_status                           0    0.000000\n",
       "past_complaint                             0    0.000000\n",
       "offer_application_preference               0    0.000000\n",
       "used_special_discount                      0    0.000000\n",
       "avg_frequency_login_days                   0    0.000000\n",
       "avg_transaction_value                      0    0.000000\n",
       "last_visit_time                            0    0.000000\n",
       "days_since_last_login                      0    0.000000\n",
       "gender                                     0    0.000000\n",
       "internet_option                            0    0.000000\n",
       "medium_of_operation                        0    0.000000\n",
       "referral_id                                0    0.000000\n",
       "joined_through_referral                    0    0.000000\n",
       "joining_date                               0    0.000000\n",
       "membership_category                        0    0.000000\n",
       "security_no                                0    0.000000\n",
       "churn_risk_score                           0    0.000000"
      ]
     },
     "execution_count": 158,
     "metadata": {},
     "output_type": "execute_result"
    }
   ],
   "source": [
    "missing_values = pd.DataFrame({\n",
    "    'missing_values':data.isnull().sum(),\n",
    "    'percentage':data.isnull().sum()*100/data.shape[0]\n",
    "})\n",
    "\n",
    "missing_values.sort_values(by='missing_values', ascending=False)"
   ]
  },
  {
   "cell_type": "markdown",
   "metadata": {},
   "source": [
    "### 5.1.2 Non-Standard Missing Values <a id='NS_Missing_Values'></a>\n",
    "\n",
    "<table align=\"left\">\n",
    "    <tr>\n",
    "        <td>\n",
    "            <div align=\"left\", style=\"font-size:120%\">\n",
    "                <font color=\"#21618C\">\n",
    "                    <b>\n",
    "The non-standard missing values are replaced with NaN                    </b>\n",
    "                </font>\n",
    "            </div>\n",
    "        </td>\n",
    "    </tr>\n",
    "</table>"
   ]
  },
  {
   "cell_type": "code",
   "execution_count": 159,
   "metadata": {
    "execution": {
     "iopub.execute_input": "2022-04-29T04:45:50.083225Z",
     "iopub.status.busy": "2022-04-29T04:45:50.082493Z",
     "iopub.status.idle": "2022-04-29T04:45:50.092679Z",
     "shell.execute_reply": "2022-04-29T04:45:50.091784Z",
     "shell.execute_reply.started": "2022-04-29T04:45:50.083178Z"
    }
   },
   "outputs": [
    {
     "data": {
      "text/plain": [
       "No     15839\n",
       "Yes    15715\n",
       "?       5438\n",
       "Name: joined_through_referral, dtype: int64"
      ]
     },
     "execution_count": 159,
     "metadata": {},
     "output_type": "execute_result"
    }
   ],
   "source": [
    "data.joined_through_referral.value_counts()"
   ]
  },
  {
   "cell_type": "code",
   "execution_count": 160,
   "metadata": {
    "execution": {
     "iopub.execute_input": "2022-04-29T04:45:53.934678Z",
     "iopub.status.busy": "2022-04-29T04:45:53.934388Z",
     "iopub.status.idle": "2022-04-29T04:45:53.941338Z",
     "shell.execute_reply": "2022-04-29T04:45:53.940513Z",
     "shell.execute_reply.started": "2022-04-29T04:45:53.934647Z"
    }
   },
   "outputs": [],
   "source": [
    "data['joined_through_referral'] = data['joined_through_referral'].replace('?',np.NaN)"
   ]
  },
  {
   "cell_type": "code",
   "execution_count": 161,
   "metadata": {
    "execution": {
     "iopub.execute_input": "2022-04-29T04:45:56.352199Z",
     "iopub.status.busy": "2022-04-29T04:45:56.351768Z",
     "iopub.status.idle": "2022-04-29T04:45:56.360897Z",
     "shell.execute_reply": "2022-04-29T04:45:56.360203Z",
     "shell.execute_reply.started": "2022-04-29T04:45:56.352160Z"
    }
   },
   "outputs": [
    {
     "data": {
      "text/plain": [
       "F          18490\n",
       "M          18443\n",
       "Unknown       59\n",
       "Name: gender, dtype: int64"
      ]
     },
     "execution_count": 161,
     "metadata": {},
     "output_type": "execute_result"
    }
   ],
   "source": [
    "data.gender.value_counts()"
   ]
  },
  {
   "cell_type": "code",
   "execution_count": 162,
   "metadata": {
    "execution": {
     "iopub.execute_input": "2022-04-29T04:45:59.933876Z",
     "iopub.status.busy": "2022-04-29T04:45:59.933444Z",
     "iopub.status.idle": "2022-04-29T04:45:59.940016Z",
     "shell.execute_reply": "2022-04-29T04:45:59.939396Z",
     "shell.execute_reply.started": "2022-04-29T04:45:59.933838Z"
    }
   },
   "outputs": [],
   "source": [
    "data['gender'] = data['gender'].replace('Unknown',np.NaN)"
   ]
  },
  {
   "cell_type": "code",
   "execution_count": 163,
   "metadata": {
    "execution": {
     "iopub.execute_input": "2022-04-29T04:46:04.329807Z",
     "iopub.status.busy": "2022-04-29T04:46:04.329367Z",
     "iopub.status.idle": "2022-04-29T04:46:04.339086Z",
     "shell.execute_reply": "2022-04-29T04:46:04.338237Z",
     "shell.execute_reply.started": "2022-04-29T04:46:04.329768Z"
    }
   },
   "outputs": [
    {
     "data": {
      "text/plain": [
       "array(['xxxxxxxx', 'CID21329', 'CID12313', ..., 'CID60808', 'CID10431',\n",
       "       'CID45477'], dtype=object)"
      ]
     },
     "execution_count": 163,
     "metadata": {},
     "output_type": "execute_result"
    }
   ],
   "source": [
    "data.referral_id.unique()"
   ]
  },
  {
   "cell_type": "code",
   "execution_count": 164,
   "metadata": {
    "execution": {
     "iopub.execute_input": "2022-04-29T04:46:07.815240Z",
     "iopub.status.busy": "2022-04-29T04:46:07.814933Z",
     "iopub.status.idle": "2022-04-29T04:46:07.823553Z",
     "shell.execute_reply": "2022-04-29T04:46:07.822354Z",
     "shell.execute_reply.started": "2022-04-29T04:46:07.815203Z"
    }
   },
   "outputs": [],
   "source": [
    "data['referral_id'] = data['referral_id'].replace('xxxxxxxx',np.NaN)  "
   ]
  },
  {
   "cell_type": "code",
   "execution_count": 165,
   "metadata": {
    "execution": {
     "iopub.execute_input": "2022-04-29T04:46:10.415124Z",
     "iopub.status.busy": "2022-04-29T04:46:10.414849Z",
     "iopub.status.idle": "2022-04-29T04:46:10.423676Z",
     "shell.execute_reply": "2022-04-29T04:46:10.422960Z",
     "shell.execute_reply.started": "2022-04-29T04:46:10.415095Z"
    }
   },
   "outputs": [
    {
     "data": {
      "text/plain": [
       "Desktop       13913\n",
       "Smartphone    13876\n",
       "?              5393\n",
       "Both           3810\n",
       "Name: medium_of_operation, dtype: int64"
      ]
     },
     "execution_count": 165,
     "metadata": {},
     "output_type": "execute_result"
    }
   ],
   "source": [
    "data.medium_of_operation.value_counts()"
   ]
  },
  {
   "cell_type": "code",
   "execution_count": 166,
   "metadata": {
    "execution": {
     "iopub.execute_input": "2022-04-29T04:46:14.508017Z",
     "iopub.status.busy": "2022-04-29T04:46:14.507454Z",
     "iopub.status.idle": "2022-04-29T04:46:14.515285Z",
     "shell.execute_reply": "2022-04-29T04:46:14.514482Z",
     "shell.execute_reply.started": "2022-04-29T04:46:14.507974Z"
    }
   },
   "outputs": [],
   "source": [
    "data['medium_of_operation'] = data['medium_of_operation'].replace('?',np.NaN)  "
   ]
  },
  {
   "cell_type": "code",
   "execution_count": 167,
   "metadata": {
    "execution": {
     "iopub.execute_input": "2022-04-29T04:46:18.462470Z",
     "iopub.status.busy": "2022-04-29T04:46:18.462164Z",
     "iopub.status.idle": "2022-04-29T04:46:18.470370Z",
     "shell.execute_reply": "2022-04-29T04:46:18.469510Z",
     "shell.execute_reply.started": "2022-04-29T04:46:18.462435Z"
    }
   },
   "outputs": [
    {
     "data": {
      "text/plain": [
       " 12     2380\n",
       " 13     2373\n",
       " 14     2307\n",
       " 15     2278\n",
       " 11     2262\n",
       " 10     2091\n",
       " 16     2068\n",
       "-999    1999\n",
       " 9      1863\n",
       " 17     1747\n",
       " 8      1571\n",
       " 18     1444\n",
       " 7      1442\n",
       " 19     1308\n",
       " 6      1257\n",
       " 5      1234\n",
       " 20     1184\n",
       " 21     1015\n",
       " 4       998\n",
       " 22      895\n",
       " 3       852\n",
       " 23      727\n",
       " 2       613\n",
       " 24      471\n",
       " 1       328\n",
       " 25      203\n",
       " 26       82\n",
       "Name: days_since_last_login, dtype: int64"
      ]
     },
     "execution_count": 167,
     "metadata": {},
     "output_type": "execute_result"
    }
   ],
   "source": [
    "data.days_since_last_login.value_counts()"
   ]
  },
  {
   "cell_type": "code",
   "execution_count": 168,
   "metadata": {
    "execution": {
     "iopub.execute_input": "2022-04-29T04:46:22.810448Z",
     "iopub.status.busy": "2022-04-29T04:46:22.809995Z",
     "iopub.status.idle": "2022-04-29T04:46:22.815795Z",
     "shell.execute_reply": "2022-04-29T04:46:22.814882Z",
     "shell.execute_reply.started": "2022-04-29T04:46:22.810400Z"
    }
   },
   "outputs": [],
   "source": [
    "data['days_since_last_login'] = data['days_since_last_login'].replace(-999,np.NaN)  "
   ]
  },
  {
   "cell_type": "code",
   "execution_count": 169,
   "metadata": {
    "execution": {
     "iopub.execute_input": "2022-04-29T04:46:25.898511Z",
     "iopub.status.busy": "2022-04-29T04:46:25.898221Z",
     "iopub.status.idle": "2022-04-29T04:46:25.907703Z",
     "shell.execute_reply": "2022-04-29T04:46:25.907051Z",
     "shell.execute_reply.started": "2022-04-29T04:46:25.898481Z"
    }
   },
   "outputs": [
    {
     "data": {
      "text/plain": [
       "1719"
      ]
     },
     "execution_count": 169,
     "metadata": {},
     "output_type": "execute_result"
    }
   ],
   "source": [
    "len(data[data.avg_time_spent < 0]['avg_time_spent'])"
   ]
  },
  {
   "cell_type": "code",
   "execution_count": 170,
   "metadata": {
    "execution": {
     "iopub.execute_input": "2022-04-29T04:46:30.037653Z",
     "iopub.status.busy": "2022-04-29T04:46:30.037365Z",
     "iopub.status.idle": "2022-04-29T04:46:30.053262Z",
     "shell.execute_reply": "2022-04-29T04:46:30.052226Z",
     "shell.execute_reply.started": "2022-04-29T04:46:30.037621Z"
    }
   },
   "outputs": [],
   "source": [
    "data['avg_time_spent']=data['avg_time_spent'].apply(lambda x:x if x>=0 else np.nan)"
   ]
  },
  {
   "cell_type": "code",
   "execution_count": 171,
   "metadata": {
    "execution": {
     "iopub.execute_input": "2022-04-29T04:46:32.840821Z",
     "iopub.status.busy": "2022-04-29T04:46:32.840571Z",
     "iopub.status.idle": "2022-04-29T04:46:32.847933Z",
     "shell.execute_reply": "2022-04-29T04:46:32.847304Z",
     "shell.execute_reply.started": "2022-04-29T04:46:32.840793Z"
    }
   },
   "outputs": [
    {
     "data": {
      "text/plain": [
       "136"
      ]
     },
     "execution_count": 171,
     "metadata": {},
     "output_type": "execute_result"
    }
   ],
   "source": [
    "len(data[data.points_in_wallet < 0]['points_in_wallet'])"
   ]
  },
  {
   "cell_type": "code",
   "execution_count": 172,
   "metadata": {
    "execution": {
     "iopub.execute_input": "2022-04-29T04:46:35.560458Z",
     "iopub.status.busy": "2022-04-29T04:46:35.560152Z",
     "iopub.status.idle": "2022-04-29T04:46:35.577733Z",
     "shell.execute_reply": "2022-04-29T04:46:35.575475Z",
     "shell.execute_reply.started": "2022-04-29T04:46:35.560424Z"
    }
   },
   "outputs": [],
   "source": [
    "data['points_in_wallet']=data['points_in_wallet'].apply(lambda x:x if x>=0 else np.nan)"
   ]
  },
  {
   "cell_type": "code",
   "execution_count": 173,
   "metadata": {
    "execution": {
     "iopub.execute_input": "2022-04-29T04:46:38.214285Z",
     "iopub.status.busy": "2022-04-29T04:46:38.213759Z",
     "iopub.status.idle": "2022-04-29T04:46:38.262226Z",
     "shell.execute_reply": "2022-04-29T04:46:38.261385Z",
     "shell.execute_reply.started": "2022-04-29T04:46:38.214225Z"
    }
   },
   "outputs": [],
   "source": [
    "data['avg_frequency_login_days']=data['avg_frequency_login_days'].apply(lambda x:x if x!='Error' else -1)\n",
    "data['avg_frequency_login_days']=data['avg_frequency_login_days'].astype('float')\n",
    "data['avg_frequency_login_days']=data['avg_frequency_login_days'].apply(lambda x:x if x>=0 else np.nan)"
   ]
  },
  {
   "cell_type": "code",
   "execution_count": 174,
   "metadata": {
    "execution": {
     "iopub.execute_input": "2022-04-29T04:46:41.412264Z",
     "iopub.status.busy": "2022-04-29T04:46:41.411433Z",
     "iopub.status.idle": "2022-04-29T04:46:41.480586Z",
     "shell.execute_reply": "2022-04-29T04:46:41.479400Z",
     "shell.execute_reply.started": "2022-04-29T04:46:41.412215Z"
    },
    "scrolled": true
   },
   "outputs": [
    {
     "data": {
      "text/html": [
       "<div>\n",
       "<style scoped>\n",
       "    .dataframe tbody tr th:only-of-type {\n",
       "        vertical-align: middle;\n",
       "    }\n",
       "\n",
       "    .dataframe tbody tr th {\n",
       "        vertical-align: top;\n",
       "    }\n",
       "\n",
       "    .dataframe thead th {\n",
       "        text-align: right;\n",
       "    }\n",
       "</style>\n",
       "<table border=\"1\" class=\"dataframe\">\n",
       "  <thead>\n",
       "    <tr style=\"text-align: right;\">\n",
       "      <th></th>\n",
       "      <th>missing_values</th>\n",
       "      <th>percentage</th>\n",
       "    </tr>\n",
       "  </thead>\n",
       "  <tbody>\n",
       "    <tr>\n",
       "      <th>referral_id</th>\n",
       "      <td>17846</td>\n",
       "      <td>48.242863</td>\n",
       "    </tr>\n",
       "    <tr>\n",
       "      <th>joined_through_referral</th>\n",
       "      <td>5438</td>\n",
       "      <td>14.700476</td>\n",
       "    </tr>\n",
       "    <tr>\n",
       "      <th>region_category</th>\n",
       "      <td>5428</td>\n",
       "      <td>14.673443</td>\n",
       "    </tr>\n",
       "    <tr>\n",
       "      <th>medium_of_operation</th>\n",
       "      <td>5393</td>\n",
       "      <td>14.578828</td>\n",
       "    </tr>\n",
       "    <tr>\n",
       "      <th>avg_frequency_login_days</th>\n",
       "      <td>4205</td>\n",
       "      <td>11.367323</td>\n",
       "    </tr>\n",
       "    <tr>\n",
       "      <th>points_in_wallet</th>\n",
       "      <td>3579</td>\n",
       "      <td>9.675065</td>\n",
       "    </tr>\n",
       "    <tr>\n",
       "      <th>days_since_last_login</th>\n",
       "      <td>1999</td>\n",
       "      <td>5.403871</td>\n",
       "    </tr>\n",
       "    <tr>\n",
       "      <th>avg_time_spent</th>\n",
       "      <td>1719</td>\n",
       "      <td>4.646951</td>\n",
       "    </tr>\n",
       "    <tr>\n",
       "      <th>preferred_offer_types</th>\n",
       "      <td>288</td>\n",
       "      <td>0.778547</td>\n",
       "    </tr>\n",
       "    <tr>\n",
       "      <th>gender</th>\n",
       "      <td>59</td>\n",
       "      <td>0.159494</td>\n",
       "    </tr>\n",
       "    <tr>\n",
       "      <th>age</th>\n",
       "      <td>0</td>\n",
       "      <td>0.000000</td>\n",
       "    </tr>\n",
       "    <tr>\n",
       "      <th>feedback</th>\n",
       "      <td>0</td>\n",
       "      <td>0.000000</td>\n",
       "    </tr>\n",
       "    <tr>\n",
       "      <th>complaint_status</th>\n",
       "      <td>0</td>\n",
       "      <td>0.000000</td>\n",
       "    </tr>\n",
       "    <tr>\n",
       "      <th>past_complaint</th>\n",
       "      <td>0</td>\n",
       "      <td>0.000000</td>\n",
       "    </tr>\n",
       "    <tr>\n",
       "      <th>offer_application_preference</th>\n",
       "      <td>0</td>\n",
       "      <td>0.000000</td>\n",
       "    </tr>\n",
       "    <tr>\n",
       "      <th>used_special_discount</th>\n",
       "      <td>0</td>\n",
       "      <td>0.000000</td>\n",
       "    </tr>\n",
       "    <tr>\n",
       "      <th>last_visit_time</th>\n",
       "      <td>0</td>\n",
       "      <td>0.000000</td>\n",
       "    </tr>\n",
       "    <tr>\n",
       "      <th>avg_transaction_value</th>\n",
       "      <td>0</td>\n",
       "      <td>0.000000</td>\n",
       "    </tr>\n",
       "    <tr>\n",
       "      <th>internet_option</th>\n",
       "      <td>0</td>\n",
       "      <td>0.000000</td>\n",
       "    </tr>\n",
       "    <tr>\n",
       "      <th>joining_date</th>\n",
       "      <td>0</td>\n",
       "      <td>0.000000</td>\n",
       "    </tr>\n",
       "    <tr>\n",
       "      <th>membership_category</th>\n",
       "      <td>0</td>\n",
       "      <td>0.000000</td>\n",
       "    </tr>\n",
       "    <tr>\n",
       "      <th>security_no</th>\n",
       "      <td>0</td>\n",
       "      <td>0.000000</td>\n",
       "    </tr>\n",
       "    <tr>\n",
       "      <th>churn_risk_score</th>\n",
       "      <td>0</td>\n",
       "      <td>0.000000</td>\n",
       "    </tr>\n",
       "  </tbody>\n",
       "</table>\n",
       "</div>"
      ],
      "text/plain": [
       "                              missing_values  percentage\n",
       "referral_id                            17846   48.242863\n",
       "joined_through_referral                 5438   14.700476\n",
       "region_category                         5428   14.673443\n",
       "medium_of_operation                     5393   14.578828\n",
       "avg_frequency_login_days                4205   11.367323\n",
       "points_in_wallet                        3579    9.675065\n",
       "days_since_last_login                   1999    5.403871\n",
       "avg_time_spent                          1719    4.646951\n",
       "preferred_offer_types                    288    0.778547\n",
       "gender                                    59    0.159494\n",
       "age                                        0    0.000000\n",
       "feedback                                   0    0.000000\n",
       "complaint_status                           0    0.000000\n",
       "past_complaint                             0    0.000000\n",
       "offer_application_preference               0    0.000000\n",
       "used_special_discount                      0    0.000000\n",
       "last_visit_time                            0    0.000000\n",
       "avg_transaction_value                      0    0.000000\n",
       "internet_option                            0    0.000000\n",
       "joining_date                               0    0.000000\n",
       "membership_category                        0    0.000000\n",
       "security_no                                0    0.000000\n",
       "churn_risk_score                           0    0.000000"
      ]
     },
     "execution_count": 174,
     "metadata": {},
     "output_type": "execute_result"
    }
   ],
   "source": [
    "missing_values = pd.DataFrame({\n",
    "    'missing_values':data.isnull().sum(),\n",
    "    'percentage':data.isnull().sum()*100/data.shape[0]\n",
    "})\n",
    "\n",
    "missing_values.sort_values(by='missing_values', ascending=False)"
   ]
  },
  {
   "cell_type": "markdown",
   "metadata": {},
   "source": [
    "###  5.1.3 Missing values imputation <a id='impute'></a>"
   ]
  },
  {
   "cell_type": "code",
   "execution_count": 175,
   "metadata": {
    "execution": {
     "iopub.execute_input": "2022-04-29T04:47:46.179185Z",
     "iopub.status.busy": "2022-04-29T04:47:46.178730Z",
     "iopub.status.idle": "2022-04-29T04:47:46.190781Z",
     "shell.execute_reply": "2022-04-29T04:47:46.189803Z",
     "shell.execute_reply.started": "2022-04-29T04:47:46.179153Z"
    }
   },
   "outputs": [],
   "source": [
    "df_num = data.select_dtypes(include=np.number)\n",
    "df_cat = data.select_dtypes(include='object')"
   ]
  },
  {
   "cell_type": "markdown",
   "metadata": {},
   "source": [
    "**Missing values treatment for categorical variable**"
   ]
  },
  {
   "cell_type": "code",
   "execution_count": 176,
   "metadata": {
    "execution": {
     "iopub.execute_input": "2022-04-29T04:47:53.475361Z",
     "iopub.status.busy": "2022-04-29T04:47:53.475074Z",
     "iopub.status.idle": "2022-04-29T04:47:53.504794Z",
     "shell.execute_reply": "2022-04-29T04:47:53.503675Z",
     "shell.execute_reply.started": "2022-04-29T04:47:53.475329Z"
    }
   },
   "outputs": [],
   "source": [
    "Missing_cat = data[['gender','preferred_offer_types','region_category','joined_through_referral','medium_of_operation']]\n",
    "for i,col in enumerate(Missing_cat):\n",
    "    data[col].fillna(data[col].mode()[0], inplace=True)"
   ]
  },
  {
   "cell_type": "code",
   "execution_count": 177,
   "metadata": {
    "execution": {
     "iopub.execute_input": "2022-04-29T04:47:56.281548Z",
     "iopub.status.busy": "2022-04-29T04:47:56.281267Z",
     "iopub.status.idle": "2022-04-29T04:47:56.288308Z",
     "shell.execute_reply": "2022-04-29T04:47:56.287530Z",
     "shell.execute_reply.started": "2022-04-29T04:47:56.281518Z"
    }
   },
   "outputs": [],
   "source": [
    "Missing_num = data[['points_in_wallet','avg_time_spent','days_since_last_login','avg_frequency_login_days']]"
   ]
  },
  {
   "cell_type": "markdown",
   "metadata": {},
   "source": [
    "**Missing values treatment for numerical variable**"
   ]
  },
  {
   "cell_type": "code",
   "execution_count": 178,
   "metadata": {
    "execution": {
     "iopub.execute_input": "2022-04-29T04:48:04.923003Z",
     "iopub.status.busy": "2022-04-29T04:48:04.922106Z",
     "iopub.status.idle": "2022-04-29T04:48:29.283190Z",
     "shell.execute_reply": "2022-04-29T04:48:29.282105Z",
     "shell.execute_reply.started": "2022-04-29T04:48:04.922964Z"
    }
   },
   "outputs": [],
   "source": [
    "imputer = KNNImputer(n_neighbors=3)\n",
    "imputed_value=imputer.fit_transform(Missing_num)"
   ]
  },
  {
   "cell_type": "code",
   "execution_count": 179,
   "metadata": {
    "execution": {
     "iopub.execute_input": "2022-04-29T04:48:40.548615Z",
     "iopub.status.busy": "2022-04-29T04:48:40.548104Z",
     "iopub.status.idle": "2022-04-29T04:48:40.578159Z",
     "shell.execute_reply": "2022-04-29T04:48:40.577520Z",
     "shell.execute_reply.started": "2022-04-29T04:48:40.548577Z"
    }
   },
   "outputs": [],
   "source": [
    "d1 = pd.DataFrame({\n",
    "    'avg_frequency_login_days':imputed_value.T[0],\n",
    "    'points_in_wallet':imputed_value.T[1],\n",
    "    'days_since_last_login':imputed_value.T[2],\n",
    "    'avg_time_spent':imputed_value.T[3]\n",
    "\n",
    "})\n",
    "\n",
    "data.drop(['avg_frequency_login_days','points_in_wallet','days_since_last_login','avg_time_spent'], axis=1, inplace=True)\n",
    "\n",
    "data = pd.concat([data, d1], axis=1)"
   ]
  },
  {
   "cell_type": "markdown",
   "metadata": {},
   "source": [
    "### 5.2 Duplicate Data  <a id='duplicate'></a>"
   ]
  },
  {
   "cell_type": "code",
   "execution_count": 180,
   "metadata": {
    "execution": {
     "iopub.execute_input": "2022-04-29T04:52:59.447962Z",
     "iopub.status.busy": "2022-04-29T04:52:59.447649Z",
     "iopub.status.idle": "2022-04-29T04:52:59.543234Z",
     "shell.execute_reply": "2022-04-29T04:52:59.542297Z",
     "shell.execute_reply.started": "2022-04-29T04:52:59.447932Z"
    }
   },
   "outputs": [
    {
     "data": {
      "text/html": [
       "<div>\n",
       "<style scoped>\n",
       "    .dataframe tbody tr th:only-of-type {\n",
       "        vertical-align: middle;\n",
       "    }\n",
       "\n",
       "    .dataframe tbody tr th {\n",
       "        vertical-align: top;\n",
       "    }\n",
       "\n",
       "    .dataframe thead th {\n",
       "        text-align: right;\n",
       "    }\n",
       "</style>\n",
       "<table border=\"1\" class=\"dataframe\">\n",
       "  <thead>\n",
       "    <tr style=\"text-align: right;\">\n",
       "      <th></th>\n",
       "      <th>age</th>\n",
       "      <th>gender</th>\n",
       "      <th>security_no</th>\n",
       "      <th>region_category</th>\n",
       "      <th>membership_category</th>\n",
       "      <th>joining_date</th>\n",
       "      <th>joined_through_referral</th>\n",
       "      <th>referral_id</th>\n",
       "      <th>preferred_offer_types</th>\n",
       "      <th>medium_of_operation</th>\n",
       "      <th>...</th>\n",
       "      <th>used_special_discount</th>\n",
       "      <th>offer_application_preference</th>\n",
       "      <th>past_complaint</th>\n",
       "      <th>complaint_status</th>\n",
       "      <th>feedback</th>\n",
       "      <th>churn_risk_score</th>\n",
       "      <th>avg_frequency_login_days</th>\n",
       "      <th>points_in_wallet</th>\n",
       "      <th>days_since_last_login</th>\n",
       "      <th>avg_time_spent</th>\n",
       "    </tr>\n",
       "  </thead>\n",
       "  <tbody>\n",
       "  </tbody>\n",
       "</table>\n",
       "<p>0 rows × 23 columns</p>\n",
       "</div>"
      ],
      "text/plain": [
       "Empty DataFrame\n",
       "Columns: [age, gender, security_no, region_category, membership_category, joining_date, joined_through_referral, referral_id, preferred_offer_types, medium_of_operation, internet_option, last_visit_time, avg_transaction_value, used_special_discount, offer_application_preference, past_complaint, complaint_status, feedback, churn_risk_score, avg_frequency_login_days, points_in_wallet, days_since_last_login, avg_time_spent]\n",
       "Index: []\n",
       "\n",
       "[0 rows x 23 columns]"
      ]
     },
     "execution_count": 180,
     "metadata": {},
     "output_type": "execute_result"
    }
   ],
   "source": [
    "data[data.duplicated()]"
   ]
  },
  {
   "cell_type": "markdown",
   "metadata": {},
   "source": [
    "## 5.3 Feature Engineering  <a id='feature_eng'></a>"
   ]
  },
  {
   "cell_type": "code",
   "execution_count": 181,
   "metadata": {
    "execution": {
     "iopub.execute_input": "2022-04-29T04:54:15.738016Z",
     "iopub.status.busy": "2022-04-29T04:54:15.737453Z",
     "iopub.status.idle": "2022-04-29T04:54:15.771269Z",
     "shell.execute_reply": "2022-04-29T04:54:15.770345Z",
     "shell.execute_reply.started": "2022-04-29T04:54:15.737979Z"
    }
   },
   "outputs": [],
   "source": [
    "data['year']=data.joining_date.apply(lambda x:2021-int(x.split('-')[0]))"
   ]
  },
  {
   "cell_type": "code",
   "execution_count": 182,
   "metadata": {
    "execution": {
     "iopub.execute_input": "2022-04-29T04:54:19.147423Z",
     "iopub.status.busy": "2022-04-29T04:54:19.147044Z",
     "iopub.status.idle": "2022-04-29T04:54:19.160915Z",
     "shell.execute_reply": "2022-04-29T04:54:19.160003Z",
     "shell.execute_reply.started": "2022-04-29T04:54:19.147372Z"
    }
   },
   "outputs": [],
   "source": [
    "data.drop(['security_no','joining_date','referral_id','last_visit_time'], axis=1, inplace=True)"
   ]
  },
  {
   "cell_type": "markdown",
   "metadata": {},
   "source": [
    "## 5.4 Outliers <a id='out'></a>"
   ]
  },
  {
   "cell_type": "markdown",
   "metadata": {},
   "source": [
    "### 5.4.1 Discovery of Outliers <a id='dis_out'></a>"
   ]
  },
  {
   "cell_type": "code",
   "execution_count": 183,
   "metadata": {
    "execution": {
     "iopub.execute_input": "2022-04-29T04:59:04.427762Z",
     "iopub.status.busy": "2022-04-29T04:59:04.427049Z",
     "iopub.status.idle": "2022-04-29T04:59:04.435693Z",
     "shell.execute_reply": "2022-04-29T04:59:04.434956Z",
     "shell.execute_reply.started": "2022-04-29T04:59:04.427706Z"
    }
   },
   "outputs": [],
   "source": [
    "df_num=data.select_dtypes(include=[np.number]) "
   ]
  },
  {
   "cell_type": "code",
   "execution_count": 184,
   "metadata": {
    "execution": {
     "iopub.execute_input": "2022-04-29T04:59:23.961149Z",
     "iopub.status.busy": "2022-04-29T04:59:23.960518Z",
     "iopub.status.idle": "2022-04-29T04:59:23.997017Z",
     "shell.execute_reply": "2022-04-29T04:59:23.996390Z",
     "shell.execute_reply.started": "2022-04-29T04:59:23.961111Z"
    },
    "scrolled": true
   },
   "outputs": [
    {
     "name": "stdout",
     "output_type": "stream",
     "text": [
      "Total number of Outliers in column age are 0\n",
      "Total number of Outliers in column avg_transaction_value are 1131\n",
      "Total number of Outliers in column churn_risk_score are 0\n",
      "Total number of Outliers in column avg_frequency_login_days are 4399\n",
      "Total number of Outliers in column points_in_wallet are 2911\n",
      "Total number of Outliers in column days_since_last_login are 0\n",
      "Total number of Outliers in column avg_time_spent are 417\n",
      "Total number of Outliers in column year are 0\n"
     ]
    }
   ],
   "source": [
    "Q1 = data.quantile(0.25) \n",
    "Q3 = data.quantile(0.75) \n",
    "IQR = Q3 - Q1 \n",
    "outlier = pd.DataFrame((df_num < (Q1 - 1.5 * IQR)) | (df_num > (Q3 + 1.5 * IQR)))\n",
    "for i in outlier.columns:\n",
    "    print(f'Total number of Outliers in column {i} are {len(outlier[outlier[i] == True][i])}')"
   ]
  },
  {
   "cell_type": "markdown",
   "metadata": {},
   "source": [
    "### 5.4.2 Removal of Outliers <a id='rem_out'></a>"
   ]
  },
  {
   "cell_type": "code",
   "execution_count": 140,
   "metadata": {
    "execution": {
     "iopub.execute_input": "2022-04-29T05:05:26.991800Z",
     "iopub.status.busy": "2022-04-29T05:05:26.991522Z",
     "iopub.status.idle": "2022-04-29T05:05:27.090138Z",
     "shell.execute_reply": "2022-04-29T05:05:27.089293Z",
     "shell.execute_reply.started": "2022-04-29T05:05:26.991771Z"
    }
   },
   "outputs": [],
   "source": [
    "data_iqr = data[~((data < (Q1 - 1.5 * IQR)) |(data > (Q3 + 1.5 * IQR))).any(axis=1)] \n",
    "data_iqr.reset_index(inplace=True)\n",
    "data_iqr.drop('index',axis=1, inplace=True)"
   ]
  },
  {
   "cell_type": "code",
   "execution_count": 141,
   "metadata": {
    "execution": {
     "iopub.execute_input": "2022-04-29T05:05:31.965590Z",
     "iopub.status.busy": "2022-04-29T05:05:31.964402Z",
     "iopub.status.idle": "2022-04-29T05:05:31.977476Z",
     "shell.execute_reply": "2022-04-29T05:05:31.976250Z",
     "shell.execute_reply.started": "2022-04-29T05:05:31.965520Z"
    }
   },
   "outputs": [],
   "source": [
    "df_cat = data_iqr[['gender','region_category','joined_through_referral','preferred_offer_types','medium_of_operation','internet_option','used_special_discount','offer_application_preference','past_complaint']]\n",
    "df_num = data_iqr.select_dtypes(include=np.number)"
   ]
  },
  {
   "cell_type": "markdown",
   "metadata": {},
   "source": [
    "## 5.5 Categorical Data Encoding  <a id='cat_enc'></a>"
   ]
  },
  {
   "cell_type": "code",
   "execution_count": 142,
   "metadata": {
    "execution": {
     "iopub.execute_input": "2022-04-29T05:05:36.764710Z",
     "iopub.status.busy": "2022-04-29T05:05:36.764225Z",
     "iopub.status.idle": "2022-04-29T05:05:36.829526Z",
     "shell.execute_reply": "2022-04-29T05:05:36.828855Z",
     "shell.execute_reply.started": "2022-04-29T05:05:36.764663Z"
    }
   },
   "outputs": [
    {
     "name": "stdout",
     "output_type": "stream",
     "text": [
      "0        4.0\n",
      "1        5.0\n",
      "2        0.0\n",
      "3        0.0\n",
      "4        0.0\n",
      "        ... \n",
      "28768    4.0\n",
      "28769    1.0\n",
      "28770    1.0\n",
      "28771    1.0\n",
      "28772    2.0\n",
      "Name: membership_category, Length: 28773, dtype: float64\n",
      "0        1.0\n",
      "1        3.0\n",
      "2        4.0\n",
      "3        2.0\n",
      "4        3.0\n",
      "        ... \n",
      "28768    1.0\n",
      "28769    0.0\n",
      "28770    1.0\n",
      "28771    2.0\n",
      "28772    1.0\n",
      "Name: complaint_status, Length: 28773, dtype: float64\n",
      "0        4\n",
      "1        5\n",
      "2        3\n",
      "3        3\n",
      "4        3\n",
      "        ..\n",
      "28768    0\n",
      "28769    0\n",
      "28770    1\n",
      "28771    3\n",
      "28772    5\n",
      "Name: feedback, Length: 28773, dtype: int32\n",
      "       gender_M  region_category_Town  region_category_Village  \\\n",
      "0             0                     0                        1   \n",
      "1             0                     0                        0   \n",
      "2             0                     1                        0   \n",
      "3             1                     0                        0   \n",
      "4             0                     0                        0   \n",
      "...         ...                   ...                      ...   \n",
      "28768         1                     1                        0   \n",
      "28769         0                     1                        0   \n",
      "28770         0                     1                        0   \n",
      "28771         0                     1                        0   \n",
      "28772         1                     1                        0   \n",
      "\n",
      "       joined_through_referral_Yes  \\\n",
      "0                                0   \n",
      "1                                0   \n",
      "2                                1   \n",
      "3                                1   \n",
      "4                                0   \n",
      "...                            ...   \n",
      "28768                            1   \n",
      "28769                            0   \n",
      "28770                            0   \n",
      "28771                            1   \n",
      "28772                            0   \n",
      "\n",
      "       preferred_offer_types_Gift Vouchers/Coupons  \\\n",
      "0                                                1   \n",
      "1                                                1   \n",
      "2                                                1   \n",
      "3                                                1   \n",
      "4                                                0   \n",
      "...                                            ...   \n",
      "28768                                            0   \n",
      "28769                                            0   \n",
      "28770                                            0   \n",
      "28771                                            1   \n",
      "28772                                            1   \n",
      "\n",
      "       preferred_offer_types_Without Offers  medium_of_operation_Desktop  \\\n",
      "0                                         0                            1   \n",
      "1                                         0                            1   \n",
      "2                                         0                            1   \n",
      "3                                         0                            1   \n",
      "4                                         0                            0   \n",
      "...                                     ...                          ...   \n",
      "28768                                     0                            1   \n",
      "28769                                     0                            1   \n",
      "28770                                     1                            0   \n",
      "28771                                     0                            1   \n",
      "28772                                     0                            1   \n",
      "\n",
      "       medium_of_operation_Smartphone  internet_option_Mobile_Data  \\\n",
      "0                                   0                            0   \n",
      "1                                   0                            1   \n",
      "2                                   0                            0   \n",
      "3                                   0                            1   \n",
      "4                                   1                            1   \n",
      "...                               ...                          ...   \n",
      "28768                               0                            1   \n",
      "28769                               0                            0   \n",
      "28770                               1                            0   \n",
      "28771                               0                            0   \n",
      "28772                               0                            1   \n",
      "\n",
      "       internet_option_Wi-Fi  used_special_discount_Yes  \\\n",
      "0                          1                          1   \n",
      "1                          0                          1   \n",
      "2                          1                          0   \n",
      "3                          0                          0   \n",
      "4                          0                          0   \n",
      "...                      ...                        ...   \n",
      "28768                      0                          1   \n",
      "28769                      1                          0   \n",
      "28770                      1                          1   \n",
      "28771                      1                          0   \n",
      "28772                      0                          1   \n",
      "\n",
      "       offer_application_preference_Yes  past_complaint_Yes  \n",
      "0                                     1                   0  \n",
      "1                                     0                   1  \n",
      "2                                     1                   1  \n",
      "3                                     1                   1  \n",
      "4                                     1                   1  \n",
      "...                                 ...                 ...  \n",
      "28768                                 0                   0  \n",
      "28769                                 1                   1  \n",
      "28770                                 0                   0  \n",
      "28771                                 1                   1  \n",
      "28772                                 0                   0  \n",
      "\n",
      "[28773 rows x 13 columns]\n"
     ]
    }
   ],
   "source": [
    "orderencoding_membership_category = OrdinalEncoder(categories = [[\"No Membership\", \"Basic Membership\", \"Silver Membership\", \"Gold Membership\",\"Platinum Membership\",\"Premium Membership\"]])\n",
    "data_iqr['membership_category'] = orderencoding_membership_category.fit_transform(data_iqr['membership_category'].values.reshape(-1,1))\n",
    "print(data_iqr['membership_category'])\n",
    "orderencoding_complaint_status = OrdinalEncoder(categories = [[\"No Information Available\", \"Not Applicable\", \"Unsolved\",\"Solved\",\"Solved in Follow-up\"]])\n",
    "data_iqr['complaint_status'] = orderencoding_complaint_status.fit_transform(data_iqr['complaint_status'].values.reshape(-1,1)) \n",
    "print(data_iqr['complaint_status'])\n",
    "\n",
    "labelencoder_feedback = LabelEncoder() \n",
    "data_iqr['feedback'] = labelencoder_feedback.fit_transform(data_iqr.feedback) \n",
    "\n",
    "print(data_iqr['feedback'])\n",
    "df_categorical = pd.get_dummies(df_cat, drop_first=True)\n",
    "print(df_categorical)"
   ]
  },
  {
   "cell_type": "code",
   "execution_count": 118,
   "metadata": {
    "execution": {
     "iopub.execute_input": "2022-04-29T05:05:39.013710Z",
     "iopub.status.busy": "2022-04-29T05:05:39.013232Z",
     "iopub.status.idle": "2022-04-29T05:05:39.022583Z",
     "shell.execute_reply": "2022-04-29T05:05:39.021657Z",
     "shell.execute_reply.started": "2022-04-29T05:05:39.013662Z"
    }
   },
   "outputs": [],
   "source": [
    "df_final = pd.concat([df_categorical,df_num,data_iqr['membership_category'],data_iqr['complaint_status'],data_iqr['feedback']], axis=1)"
   ]
  },
  {
   "cell_type": "markdown",
   "metadata": {},
   "source": [
    "## 5.6 Feature Scaling  <a id='fea_sca'></a>"
   ]
  },
  {
   "cell_type": "code",
   "execution_count": 42,
   "metadata": {
    "execution": {
     "iopub.execute_input": "2022-04-29T05:12:25.972844Z",
     "iopub.status.busy": "2022-04-29T05:12:25.972548Z",
     "iopub.status.idle": "2022-04-29T05:12:25.980778Z",
     "shell.execute_reply": "2022-04-29T05:12:25.979997Z",
     "shell.execute_reply.started": "2022-04-29T05:12:25.972810Z"
    }
   },
   "outputs": [],
   "source": [
    "col = df_final[['age','days_since_last_login','avg_time_spent','avg_transaction_value','avg_frequency_login_days','points_in_wallet']]"
   ]
  },
  {
   "cell_type": "code",
   "execution_count": 43,
   "metadata": {
    "execution": {
     "iopub.execute_input": "2022-04-29T05:12:27.971972Z",
     "iopub.status.busy": "2022-04-29T05:12:27.971529Z",
     "iopub.status.idle": "2022-04-29T05:12:27.978237Z",
     "shell.execute_reply": "2022-04-29T05:12:27.977515Z",
     "shell.execute_reply.started": "2022-04-29T05:12:27.971937Z"
    }
   },
   "outputs": [],
   "source": [
    "df_final.drop(['age','days_since_last_login','avg_time_spent','avg_transaction_value','avg_frequency_login_days','points_in_wallet'], axis=1, inplace=True)"
   ]
  },
  {
   "cell_type": "code",
   "execution_count": 44,
   "metadata": {
    "execution": {
     "iopub.execute_input": "2022-04-29T05:12:34.611446Z",
     "iopub.status.busy": "2022-04-29T05:12:34.610632Z",
     "iopub.status.idle": "2022-04-29T05:12:34.622002Z",
     "shell.execute_reply": "2022-04-29T05:12:34.621134Z",
     "shell.execute_reply.started": "2022-04-29T05:12:34.611408Z"
    }
   },
   "outputs": [],
   "source": [
    "standard_scale = StandardScaler() \n",
    "col1 = standard_scale.fit_transform(col) \n",
    "df_scaled = pd.DataFrame(col1, columns=col.columns)"
   ]
  },
  {
   "cell_type": "code",
   "execution_count": 45,
   "metadata": {
    "execution": {
     "iopub.execute_input": "2022-04-29T05:12:39.354427Z",
     "iopub.status.busy": "2022-04-29T05:12:39.353810Z",
     "iopub.status.idle": "2022-04-29T05:12:39.366337Z",
     "shell.execute_reply": "2022-04-29T05:12:39.365572Z",
     "shell.execute_reply.started": "2022-04-29T05:12:39.354389Z"
    }
   },
   "outputs": [
    {
     "data": {
      "text/html": [
       "<div>\n",
       "<style scoped>\n",
       "    .dataframe tbody tr th:only-of-type {\n",
       "        vertical-align: middle;\n",
       "    }\n",
       "\n",
       "    .dataframe tbody tr th {\n",
       "        vertical-align: top;\n",
       "    }\n",
       "\n",
       "    .dataframe thead th {\n",
       "        text-align: right;\n",
       "    }\n",
       "</style>\n",
       "<table border=\"1\" class=\"dataframe\">\n",
       "  <thead>\n",
       "    <tr style=\"text-align: right;\">\n",
       "      <th></th>\n",
       "      <th>age</th>\n",
       "      <th>days_since_last_login</th>\n",
       "      <th>avg_time_spent</th>\n",
       "      <th>avg_transaction_value</th>\n",
       "      <th>avg_frequency_login_days</th>\n",
       "      <th>points_in_wallet</th>\n",
       "    </tr>\n",
       "  </thead>\n",
       "  <tbody>\n",
       "    <tr>\n",
       "      <th>0</th>\n",
       "      <td>-1.209342</td>\n",
       "      <td>0.756268</td>\n",
       "      <td>0.098431</td>\n",
       "      <td>1.566300</td>\n",
       "      <td>1.032977</td>\n",
       "      <td>0.435508</td>\n",
       "    </tr>\n",
       "    <tr>\n",
       "      <th>1</th>\n",
       "      <td>-0.326297</td>\n",
       "      <td>0.573495</td>\n",
       "      <td>-0.849870</td>\n",
       "      <td>-0.883072</td>\n",
       "      <td>-1.090570</td>\n",
       "      <td>0.465956</td>\n",
       "    </tr>\n",
       "    <tr>\n",
       "      <th>2</th>\n",
       "      <td>0.430599</td>\n",
       "      <td>0.207949</td>\n",
       "      <td>0.775788</td>\n",
       "      <td>-0.383731</td>\n",
       "      <td>-1.992103</td>\n",
       "      <td>1.584823</td>\n",
       "    </tr>\n",
       "    <tr>\n",
       "      <th>3</th>\n",
       "      <td>-0.010923</td>\n",
       "      <td>-0.340370</td>\n",
       "      <td>-1.391756</td>\n",
       "      <td>-0.126849</td>\n",
       "      <td>-1.271298</td>\n",
       "      <td>-0.883541</td>\n",
       "    </tr>\n",
       "    <tr>\n",
       "      <th>4</th>\n",
       "      <td>-0.389371</td>\n",
       "      <td>1.304586</td>\n",
       "      <td>-0.037041</td>\n",
       "      <td>-0.172944</td>\n",
       "      <td>-0.244497</td>\n",
       "      <td>-0.564337</td>\n",
       "    </tr>\n",
       "  </tbody>\n",
       "</table>\n",
       "</div>"
      ],
      "text/plain": [
       "        age  days_since_last_login  avg_time_spent  avg_transaction_value  \\\n",
       "0 -1.209342               0.756268        0.098431               1.566300   \n",
       "1 -0.326297               0.573495       -0.849870              -0.883072   \n",
       "2  0.430599               0.207949        0.775788              -0.383731   \n",
       "3 -0.010923              -0.340370       -1.391756              -0.126849   \n",
       "4 -0.389371               1.304586       -0.037041              -0.172944   \n",
       "\n",
       "   avg_frequency_login_days  points_in_wallet  \n",
       "0                  1.032977          0.435508  \n",
       "1                 -1.090570          0.465956  \n",
       "2                 -1.992103          1.584823  \n",
       "3                 -1.271298         -0.883541  \n",
       "4                 -0.244497         -0.564337  "
      ]
     },
     "execution_count": 45,
     "metadata": {},
     "output_type": "execute_result"
    }
   ],
   "source": [
    "df_scaled.head()"
   ]
  },
  {
   "cell_type": "code",
   "execution_count": 46,
   "metadata": {
    "execution": {
     "iopub.execute_input": "2022-04-29T05:12:43.810431Z",
     "iopub.status.busy": "2022-04-29T05:12:43.809805Z",
     "iopub.status.idle": "2022-04-29T05:12:43.816168Z",
     "shell.execute_reply": "2022-04-29T05:12:43.815389Z",
     "shell.execute_reply.started": "2022-04-29T05:12:43.810392Z"
    }
   },
   "outputs": [],
   "source": [
    "data_final = pd.concat([df_final,df_scaled], axis=1 )"
   ]
  },
  {
   "cell_type": "code",
   "execution_count": 47,
   "metadata": {
    "execution": {
     "iopub.execute_input": "2022-04-29T05:13:09.822769Z",
     "iopub.status.busy": "2022-04-29T05:13:09.821970Z",
     "iopub.status.idle": "2022-04-29T05:13:09.842912Z",
     "shell.execute_reply": "2022-04-29T05:13:09.842268Z",
     "shell.execute_reply.started": "2022-04-29T05:13:09.822731Z"
    }
   },
   "outputs": [
    {
     "data": {
      "text/html": [
       "<div>\n",
       "<style scoped>\n",
       "    .dataframe tbody tr th:only-of-type {\n",
       "        vertical-align: middle;\n",
       "    }\n",
       "\n",
       "    .dataframe tbody tr th {\n",
       "        vertical-align: top;\n",
       "    }\n",
       "\n",
       "    .dataframe thead th {\n",
       "        text-align: right;\n",
       "    }\n",
       "</style>\n",
       "<table border=\"1\" class=\"dataframe\">\n",
       "  <thead>\n",
       "    <tr style=\"text-align: right;\">\n",
       "      <th></th>\n",
       "      <th>gender_M</th>\n",
       "      <th>region_category_Town</th>\n",
       "      <th>region_category_Village</th>\n",
       "      <th>joined_through_referral_Yes</th>\n",
       "      <th>preferred_offer_types_Gift Vouchers/Coupons</th>\n",
       "      <th>preferred_offer_types_Without Offers</th>\n",
       "      <th>medium_of_operation_Desktop</th>\n",
       "      <th>medium_of_operation_Smartphone</th>\n",
       "      <th>internet_option_Mobile_Data</th>\n",
       "      <th>internet_option_Wi-Fi</th>\n",
       "      <th>...</th>\n",
       "      <th>year</th>\n",
       "      <th>membership_category</th>\n",
       "      <th>complaint_status</th>\n",
       "      <th>feedback</th>\n",
       "      <th>age</th>\n",
       "      <th>days_since_last_login</th>\n",
       "      <th>avg_time_spent</th>\n",
       "      <th>avg_transaction_value</th>\n",
       "      <th>avg_frequency_login_days</th>\n",
       "      <th>points_in_wallet</th>\n",
       "    </tr>\n",
       "  </thead>\n",
       "  <tbody>\n",
       "    <tr>\n",
       "      <th>0</th>\n",
       "      <td>0</td>\n",
       "      <td>0</td>\n",
       "      <td>1</td>\n",
       "      <td>0</td>\n",
       "      <td>1</td>\n",
       "      <td>0</td>\n",
       "      <td>1</td>\n",
       "      <td>0</td>\n",
       "      <td>0</td>\n",
       "      <td>1</td>\n",
       "      <td>...</td>\n",
       "      <td>4</td>\n",
       "      <td>4.0</td>\n",
       "      <td>1.0</td>\n",
       "      <td>4</td>\n",
       "      <td>-1.209342</td>\n",
       "      <td>0.756268</td>\n",
       "      <td>0.098431</td>\n",
       "      <td>1.566300</td>\n",
       "      <td>1.032977</td>\n",
       "      <td>0.435508</td>\n",
       "    </tr>\n",
       "    <tr>\n",
       "      <th>1</th>\n",
       "      <td>0</td>\n",
       "      <td>0</td>\n",
       "      <td>0</td>\n",
       "      <td>0</td>\n",
       "      <td>1</td>\n",
       "      <td>0</td>\n",
       "      <td>1</td>\n",
       "      <td>0</td>\n",
       "      <td>1</td>\n",
       "      <td>0</td>\n",
       "      <td>...</td>\n",
       "      <td>4</td>\n",
       "      <td>5.0</td>\n",
       "      <td>3.0</td>\n",
       "      <td>5</td>\n",
       "      <td>-0.326297</td>\n",
       "      <td>0.573495</td>\n",
       "      <td>-0.849870</td>\n",
       "      <td>-0.883072</td>\n",
       "      <td>-1.090570</td>\n",
       "      <td>0.465956</td>\n",
       "    </tr>\n",
       "    <tr>\n",
       "      <th>2</th>\n",
       "      <td>0</td>\n",
       "      <td>1</td>\n",
       "      <td>0</td>\n",
       "      <td>1</td>\n",
       "      <td>1</td>\n",
       "      <td>0</td>\n",
       "      <td>1</td>\n",
       "      <td>0</td>\n",
       "      <td>0</td>\n",
       "      <td>1</td>\n",
       "      <td>...</td>\n",
       "      <td>5</td>\n",
       "      <td>0.0</td>\n",
       "      <td>4.0</td>\n",
       "      <td>3</td>\n",
       "      <td>0.430599</td>\n",
       "      <td>0.207949</td>\n",
       "      <td>0.775788</td>\n",
       "      <td>-0.383731</td>\n",
       "      <td>-1.992103</td>\n",
       "      <td>1.584823</td>\n",
       "    </tr>\n",
       "    <tr>\n",
       "      <th>3</th>\n",
       "      <td>1</td>\n",
       "      <td>0</td>\n",
       "      <td>0</td>\n",
       "      <td>1</td>\n",
       "      <td>1</td>\n",
       "      <td>0</td>\n",
       "      <td>1</td>\n",
       "      <td>0</td>\n",
       "      <td>1</td>\n",
       "      <td>0</td>\n",
       "      <td>...</td>\n",
       "      <td>5</td>\n",
       "      <td>0.0</td>\n",
       "      <td>2.0</td>\n",
       "      <td>3</td>\n",
       "      <td>-0.010923</td>\n",
       "      <td>-0.340370</td>\n",
       "      <td>-1.391756</td>\n",
       "      <td>-0.126849</td>\n",
       "      <td>-1.271298</td>\n",
       "      <td>-0.883541</td>\n",
       "    </tr>\n",
       "    <tr>\n",
       "      <th>4</th>\n",
       "      <td>0</td>\n",
       "      <td>0</td>\n",
       "      <td>0</td>\n",
       "      <td>0</td>\n",
       "      <td>0</td>\n",
       "      <td>0</td>\n",
       "      <td>0</td>\n",
       "      <td>1</td>\n",
       "      <td>1</td>\n",
       "      <td>0</td>\n",
       "      <td>...</td>\n",
       "      <td>4</td>\n",
       "      <td>0.0</td>\n",
       "      <td>3.0</td>\n",
       "      <td>3</td>\n",
       "      <td>-0.389371</td>\n",
       "      <td>1.304586</td>\n",
       "      <td>-0.037041</td>\n",
       "      <td>-0.172944</td>\n",
       "      <td>-0.244497</td>\n",
       "      <td>-0.564337</td>\n",
       "    </tr>\n",
       "  </tbody>\n",
       "</table>\n",
       "<p>5 rows × 24 columns</p>\n",
       "</div>"
      ],
      "text/plain": [
       "   gender_M  region_category_Town  region_category_Village  \\\n",
       "0         0                     0                        1   \n",
       "1         0                     0                        0   \n",
       "2         0                     1                        0   \n",
       "3         1                     0                        0   \n",
       "4         0                     0                        0   \n",
       "\n",
       "   joined_through_referral_Yes  preferred_offer_types_Gift Vouchers/Coupons  \\\n",
       "0                            0                                            1   \n",
       "1                            0                                            1   \n",
       "2                            1                                            1   \n",
       "3                            1                                            1   \n",
       "4                            0                                            0   \n",
       "\n",
       "   preferred_offer_types_Without Offers  medium_of_operation_Desktop  \\\n",
       "0                                     0                            1   \n",
       "1                                     0                            1   \n",
       "2                                     0                            1   \n",
       "3                                     0                            1   \n",
       "4                                     0                            0   \n",
       "\n",
       "   medium_of_operation_Smartphone  internet_option_Mobile_Data  \\\n",
       "0                               0                            0   \n",
       "1                               0                            1   \n",
       "2                               0                            0   \n",
       "3                               0                            1   \n",
       "4                               1                            1   \n",
       "\n",
       "   internet_option_Wi-Fi  ...  year  membership_category  complaint_status  \\\n",
       "0                      1  ...     4                  4.0               1.0   \n",
       "1                      0  ...     4                  5.0               3.0   \n",
       "2                      1  ...     5                  0.0               4.0   \n",
       "3                      0  ...     5                  0.0               2.0   \n",
       "4                      0  ...     4                  0.0               3.0   \n",
       "\n",
       "   feedback       age  days_since_last_login  avg_time_spent  \\\n",
       "0         4 -1.209342               0.756268        0.098431   \n",
       "1         5 -0.326297               0.573495       -0.849870   \n",
       "2         3  0.430599               0.207949        0.775788   \n",
       "3         3 -0.010923              -0.340370       -1.391756   \n",
       "4         3 -0.389371               1.304586       -0.037041   \n",
       "\n",
       "   avg_transaction_value  avg_frequency_login_days  points_in_wallet  \n",
       "0               1.566300                  1.032977          0.435508  \n",
       "1              -0.883072                 -1.090570          0.465956  \n",
       "2              -0.383731                 -1.992103          1.584823  \n",
       "3              -0.126849                 -1.271298         -0.883541  \n",
       "4              -0.172944                 -0.244497         -0.564337  \n",
       "\n",
       "[5 rows x 24 columns]"
      ]
     },
     "execution_count": 47,
     "metadata": {},
     "output_type": "execute_result"
    }
   ],
   "source": [
    "data_final.head()"
   ]
  },
  {
   "cell_type": "markdown",
   "metadata": {},
   "source": [
    "# 6. Model Evaluation <a id='eval'></a> "
   ]
  },
  {
   "cell_type": "markdown",
   "metadata": {},
   "source": [
    "## 6.1 Feature Selection using Random Forest  <a id='fea_sel'></a> "
   ]
  },
  {
   "cell_type": "code",
   "execution_count": 48,
   "metadata": {
    "execution": {
     "iopub.execute_input": "2022-04-29T05:13:45.577275Z",
     "iopub.status.busy": "2022-04-29T05:13:45.576611Z",
     "iopub.status.idle": "2022-04-29T05:13:45.584770Z",
     "shell.execute_reply": "2022-04-29T05:13:45.584132Z",
     "shell.execute_reply.started": "2022-04-29T05:13:45.577236Z"
    }
   },
   "outputs": [],
   "source": [
    "Features = data_final.drop(['churn_risk_score'] ,axis = 1)\n",
    "Target = data_final['churn_risk_score']"
   ]
  },
  {
   "cell_type": "code",
   "execution_count": 49,
   "metadata": {
    "execution": {
     "iopub.execute_input": "2022-04-29T05:13:48.020469Z",
     "iopub.status.busy": "2022-04-29T05:13:48.019640Z",
     "iopub.status.idle": "2022-04-29T05:13:51.110785Z",
     "shell.execute_reply": "2022-04-29T05:13:51.109881Z",
     "shell.execute_reply.started": "2022-04-29T05:13:48.020429Z"
    }
   },
   "outputs": [
    {
     "data": {
      "text/plain": [
       "RandomForestClassifier(random_state=0)"
      ]
     },
     "execution_count": 49,
     "metadata": {},
     "output_type": "execute_result"
    }
   ],
   "source": [
    "X_train1, X_test1, y_train1, y_test1 = train_test_split(Features, Target, test_size=0.20, random_state=42)\n",
    "\n",
    "model =  RandomForestClassifier(random_state = 0)\n",
    "model.fit(X_train1, y_train1)"
   ]
  },
  {
   "cell_type": "code",
   "execution_count": 50,
   "metadata": {
    "execution": {
     "iopub.execute_input": "2022-04-29T05:13:54.391177Z",
     "iopub.status.busy": "2022-04-29T05:13:54.390898Z",
     "iopub.status.idle": "2022-04-29T05:13:54.762469Z",
     "shell.execute_reply": "2022-04-29T05:13:54.761783Z",
     "shell.execute_reply.started": "2022-04-29T05:13:54.391148Z"
    }
   },
   "outputs": [
    {
     "data": {
      "image/png": "[encoded data removed]",
      "text/plain": [
       "<Figure size 1080x576 with 1 Axes>"
      ]
     },
     "metadata": {
      "needs_background": "light"
     },
     "output_type": "display_data"
    }
   ],
   "source": [
    "important_features = pd.DataFrame({'Features': X_train1.columns, \n",
    "                                   'Importance': model.feature_importances_})\n",
    "\n",
    "important_features = important_features.sort_values('Importance', ascending = False)\n",
    "\n",
    "sns.barplot(x = 'Importance', y = 'Features', data = important_features)\n",
    "\n",
    "plt.title('Feature Importance', fontsize = 15)\n",
    "plt.xlabel('Importance', fontsize = 15)\n",
    "plt.ylabel('Features', fontsize = 15)\n",
    "\n",
    "plt.show()"
   ]
  },
  {
   "cell_type": "code",
   "execution_count": 51,
   "metadata": {
    "execution": {
     "iopub.execute_input": "2022-04-29T05:14:01.497991Z",
     "iopub.status.busy": "2022-04-29T05:14:01.497448Z",
     "iopub.status.idle": "2022-04-29T05:14:01.503948Z",
     "shell.execute_reply": "2022-04-29T05:14:01.503237Z",
     "shell.execute_reply.started": "2022-04-29T05:14:01.497948Z"
    }
   },
   "outputs": [],
   "source": [
    "X = Features.drop(['region_category_Village',\n",
    "                       'offer_application_preference_Yes',\n",
    "                       'used_special_discount_Yes',\n",
    "                       'preferred_offer_types_Gift Vouchers/Coupons',\n",
    "                       'past_complaint_Yes',\n",
    "                       'preferred_offer_types_Without Offers',\n",
    "                       'medium_of_operation_Smartphone',\n",
    "                       'medium_of_operation_Desktop',\n",
    "                       'internet_option_Wi-Fi',\n",
    "                       'internet_option_Mobile_Data',\n",
    "                       'joined_through_referral_Yes',\n",
    "                       'region_category_Town',\n",
    "                      ], axis =1)\n",
    "y = Target"
   ]
  },
  {
   "cell_type": "code",
   "execution_count": 52,
   "metadata": {
    "execution": {
     "iopub.execute_input": "2022-04-29T05:14:05.785844Z",
     "iopub.status.busy": "2022-04-29T05:14:05.785236Z",
     "iopub.status.idle": "2022-04-29T05:14:05.797090Z",
     "shell.execute_reply": "2022-04-29T05:14:05.796270Z",
     "shell.execute_reply.started": "2022-04-29T05:14:05.785807Z"
    }
   },
   "outputs": [],
   "source": [
    "X_train, X_test, y_train, y_test = train_test_split(X, y, test_size=0.20, random_state=42)"
   ]
  },
  {
   "cell_type": "markdown",
   "metadata": {},
   "source": [
    "## 6.2 Grid Search CV <a id='grid'></a> "
   ]
  },
  {
   "cell_type": "code",
   "execution_count": 53,
   "metadata": {
    "execution": {
     "iopub.execute_input": "2022-04-29T05:14:08.628176Z",
     "iopub.status.busy": "2022-04-29T05:14:08.627311Z",
     "iopub.status.idle": "2022-04-29T05:14:08.632663Z",
     "shell.execute_reply": "2022-04-29T05:14:08.631852Z",
     "shell.execute_reply.started": "2022-04-29T05:14:08.628139Z"
    }
   },
   "outputs": [],
   "source": [
    "def gridsearch(model , param):\n",
    "    gscv = GridSearchCV(estimator = model, \n",
    "                         param_grid = param, \n",
    "                         scoring='accuracy',\n",
    "                         cv = 5,\n",
    "                         n_jobs = -1)\n",
    "    gscv.fit(X_train , y_train)\n",
    "    result = gscv.best_params_\n",
    "    return result"
   ]
  },
  {
   "cell_type": "code",
   "execution_count": 54,
   "metadata": {
    "execution": {
     "iopub.execute_input": "2022-04-29T05:14:11.482986Z",
     "iopub.status.busy": "2022-04-29T05:14:11.482433Z",
     "iopub.status.idle": "2022-04-29T05:14:23.626552Z",
     "shell.execute_reply": "2022-04-29T05:14:23.625439Z",
     "shell.execute_reply.started": "2022-04-29T05:14:11.482940Z"
    }
   },
   "outputs": [
    {
     "name": "stdout",
     "output_type": "stream",
     "text": [
      "Best parameters for KNN: {'n_neighbors': 11}\n"
     ]
    }
   ],
   "source": [
    "knn_gs = KNeighborsClassifier()\n",
    "knn_params ={'n_neighbors':[3,5,7,9,11]}\n",
    "r2 = gridsearch(knn_gs , knn_params)\n",
    "print(f'Best parameters for KNN: {r2}')"
   ]
  },
  {
   "cell_type": "code",
   "execution_count": 55,
   "metadata": {
    "execution": {
     "iopub.execute_input": "2022-04-29T05:14:23.629437Z",
     "iopub.status.busy": "2022-04-29T05:14:23.629082Z",
     "iopub.status.idle": "2022-04-29T05:18:23.986714Z",
     "shell.execute_reply": "2022-04-29T05:18:23.985631Z",
     "shell.execute_reply.started": "2022-04-29T05:14:23.629387Z"
    }
   },
   "outputs": [
    {
     "name": "stdout",
     "output_type": "stream",
     "text": [
      "Best parameters for Random Forest :{'criterion': 'gini', 'max_depth': 3, 'max_features': 'sqrt', 'min_samples_split': 2, 'n_estimators': 300}\n"
     ]
    }
   ],
   "source": [
    "rf_gs = RandomForestClassifier(random_state = 0)\n",
    "rf_params = {\n",
    "  'n_estimators':[200,300],\n",
    " 'criterion': ( 'gini','entropy'),\n",
    " 'max_depth': [2, 3 ,4],\n",
    " 'min_samples_split': [2, 9],\n",
    " 'max_features': (\"sqrt\", \"log2\") }\n",
    "r3 = gridsearch(rf_gs , rf_params)\n",
    "print(f'Best parameters for Random Forest :{r3}')"
   ]
  },
  {
   "cell_type": "code",
   "execution_count": 56,
   "metadata": {
    "execution": {
     "iopub.execute_input": "2022-04-29T05:18:23.988442Z",
     "iopub.status.busy": "2022-04-29T05:18:23.988141Z",
     "iopub.status.idle": "2022-04-29T05:20:02.783267Z",
     "shell.execute_reply": "2022-04-29T05:20:02.782202Z",
     "shell.execute_reply.started": "2022-04-29T05:18:23.988409Z"
    }
   },
   "outputs": [
    {
     "name": "stdout",
     "output_type": "stream",
     "text": [
      "Best parameters for AdaBoost :{'learning_rate': 0.01, 'n_estimators': 250}\n"
     ]
    }
   ],
   "source": [
    "ab_gs = AdaBoostClassifier(random_state = 0)\n",
    "ab_params ={\n",
    "            'n_estimators':[10,250,1000],\n",
    "             'learning_rate':[0.01,0.1]\n",
    "            }\n",
    "r4 = gridsearch(ab_gs , ab_params)\n",
    "print(f'Best parameters for AdaBoost :{r4}')"
   ]
  },
  {
   "cell_type": "markdown",
   "metadata": {},
   "source": [
    "## 6.3 Kfold Cross Validation  <a id='kfold'></a> "
   ]
  },
  {
   "cell_type": "code",
   "execution_count": 58,
   "metadata": {
    "execution": {
     "iopub.execute_input": "2022-04-29T05:34:28.933506Z",
     "iopub.status.busy": "2022-04-29T05:34:28.932936Z",
     "iopub.status.idle": "2022-04-29T05:34:28.938496Z",
     "shell.execute_reply": "2022-04-29T05:34:28.937405Z",
     "shell.execute_reply.started": "2022-04-29T05:34:28.933470Z"
    }
   },
   "outputs": [],
   "source": [
    "def kfcv(model , x , y):\n",
    "    accuracies = cross_val_score(estimator = model, X = x, y = y, cv = 10, n_jobs = -1)\n",
    "    return accuracies"
   ]
  },
  {
   "cell_type": "code",
   "execution_count": 59,
   "metadata": {
    "execution": {
     "iopub.execute_input": "2022-04-29T05:34:32.610273Z",
     "iopub.status.busy": "2022-04-29T05:34:32.609994Z",
     "iopub.status.idle": "2022-04-29T05:34:32.616299Z",
     "shell.execute_reply": "2022-04-29T05:34:32.615403Z",
     "shell.execute_reply.started": "2022-04-29T05:34:32.610244Z"
    }
   },
   "outputs": [],
   "source": [
    "lr_kf  = LogisticRegression(random_state=0, penalty = 'l2')\n",
    "nb_kf  = GaussianNB()\n",
    "knn_kf = KNeighborsClassifier(n_neighbors= 11)\n",
    "rf_kf  = RandomForestClassifier(max_depth=3, random_state=0 , criterion= 'gini' , max_features='sqrt' , min_samples_split= 2 , n_estimators= 300)\n",
    "ab_kf  = AdaBoostClassifier(n_estimators=250, learning_rate = 0.01, random_state=0)\n"
   ]
  },
  {
   "cell_type": "markdown",
   "metadata": {},
   "source": [
    "**Accuracies for all base models.**"
   ]
  },
  {
   "cell_type": "code",
   "execution_count": 60,
   "metadata": {
    "execution": {
     "iopub.execute_input": "2022-04-29T05:34:36.865947Z",
     "iopub.status.busy": "2022-04-29T05:34:36.865674Z",
     "iopub.status.idle": "2022-04-29T05:34:37.285875Z",
     "shell.execute_reply": "2022-04-29T05:34:37.284983Z",
     "shell.execute_reply.started": "2022-04-29T05:34:36.865918Z"
    }
   },
   "outputs": [
    {
     "name": "stdout",
     "output_type": "stream",
     "text": [
      "Logistic Regression: \n",
      " Mean Accuracy 0.8580606825647228 \n",
      " Minimum Accuracy 0.843239485575252 \n",
      " Maximum Accuracy 0.8679638637943016 \n",
      " Accuracies: [0.85892981 0.86796386 0.86726894 0.86096628 0.84323949 0.85123392\n",
      " 0.84914842 0.85888078 0.86652763 0.85644769]\n"
     ]
    }
   ],
   "source": [
    "accuracies = kfcv(lr_kf , X , y)\n",
    "print(f'Logistic Regression: \\n Mean Accuracy {accuracies.mean()} \\n Minimum Accuracy {accuracies.min()} \\n Maximum Accuracy {accuracies.max()} \\n Accuracies: {accuracies}')"
   ]
  },
  {
   "cell_type": "code",
   "execution_count": 61,
   "metadata": {
    "execution": {
     "iopub.execute_input": "2022-04-29T05:34:39.936558Z",
     "iopub.status.busy": "2022-04-29T05:34:39.936220Z",
     "iopub.status.idle": "2022-04-29T05:34:40.148817Z",
     "shell.execute_reply": "2022-04-29T05:34:40.147867Z",
     "shell.execute_reply.started": "2022-04-29T05:34:39.936524Z"
    }
   },
   "outputs": [
    {
     "name": "stdout",
     "output_type": "stream",
     "text": [
      "Naive Bayes : \n",
      " Mean Accuracy 0.8628915123974549 \n",
      " Minimum Accuracy 0.848800834202294 \n",
      " Maximum Accuracy 0.872133425990271 \n",
      " Accuracies: [0.86831133 0.87074357 0.87213343 0.86791797 0.84880083 0.85331943\n",
      " 0.85436218 0.86235662 0.86896072 0.86200904]\n"
     ]
    }
   ],
   "source": [
    "accuracies1 = kfcv(nb_kf , X , y)\n",
    "print(f'Naive Bayes : \\n Mean Accuracy {accuracies1.mean()} \\n Minimum Accuracy {accuracies1.min()} \\n Maximum Accuracy {accuracies1.max()} \\n Accuracies: {accuracies1}')"
   ]
  },
  {
   "cell_type": "code",
   "execution_count": 62,
   "metadata": {
    "execution": {
     "iopub.execute_input": "2022-04-29T05:34:42.343964Z",
     "iopub.status.busy": "2022-04-29T05:34:42.343680Z",
     "iopub.status.idle": "2022-04-29T05:34:46.126482Z",
     "shell.execute_reply": "2022-04-29T05:34:46.125505Z",
     "shell.execute_reply.started": "2022-04-29T05:34:42.343935Z"
    }
   },
   "outputs": [
    {
     "name": "stdout",
     "output_type": "stream",
     "text": [
      "KNN: \n",
      " Mean Accuracy 0.9102975770790505 \n",
      " Minimum Accuracy 0.899895724713243 \n",
      " Maximum Accuracy 0.9134815844336345 \n",
      " Accuracies: [0.91278666 0.91243919 0.91348158 0.91171359 0.91275634 0.90997567\n",
      " 0.90858533 0.9092805  0.91206117 0.89989572]\n"
     ]
    }
   ],
   "source": [
    "accuracies2 = kfcv(knn_kf , X , y) \n",
    "print(f'KNN: \\n Mean Accuracy {accuracies2.mean()} \\n Minimum Accuracy {accuracies2.min()} \\n Maximum Accuracy {accuracies2.max()} \\n Accuracies: {accuracies2}')"
   ]
  },
  {
   "cell_type": "code",
   "execution_count": 63,
   "metadata": {
    "execution": {
     "iopub.execute_input": "2022-04-29T05:34:54.128886Z",
     "iopub.status.busy": "2022-04-29T05:34:54.128610Z",
     "iopub.status.idle": "2022-04-29T05:35:10.179869Z",
     "shell.execute_reply": "2022-04-29T05:35:10.178744Z",
     "shell.execute_reply.started": "2022-04-29T05:34:54.128859Z"
    }
   },
   "outputs": [
    {
     "name": "stdout",
     "output_type": "stream",
     "text": [
      "Random Forest: \n",
      " Mean Accuracy 0.9328883215785109 \n",
      " Minimum Accuracy 0.9249217935349322 \n",
      " Maximum Accuracy 0.9416058394160584 \n",
      " Accuracies: [0.93259208 0.93537179 0.93502432 0.93569691 0.92944039 0.92492179\n",
      " 0.93222106 0.92978797 0.94160584 0.93222106]\n"
     ]
    }
   ],
   "source": [
    "accuracies3 = kfcv(rf_kf , X , y)\n",
    "print(f'Random Forest: \\n Mean Accuracy {accuracies3.mean()} \\n Minimum Accuracy {accuracies3.min()} \\n Maximum Accuracy {accuracies3.max()} \\n Accuracies: {accuracies3}')"
   ]
  },
  {
   "cell_type": "code",
   "execution_count": 64,
   "metadata": {
    "execution": {
     "iopub.execute_input": "2022-04-29T05:35:17.413270Z",
     "iopub.status.busy": "2022-04-29T05:35:17.412705Z",
     "iopub.status.idle": "2022-04-29T05:35:42.804912Z",
     "shell.execute_reply": "2022-04-29T05:35:42.804180Z",
     "shell.execute_reply.started": "2022-04-29T05:35:17.413231Z"
    }
   },
   "outputs": [
    {
     "name": "stdout",
     "output_type": "stream",
     "text": [
      "AdaBoost: \n",
      " Mean Accuracy 0.9299341449752573 \n",
      " Minimum Accuracy 0.9221411192214112 \n",
      " Maximum Accuracy 0.9381299965241571 \n",
      " Accuracies: [0.92981237 0.93259208 0.93224461 0.9336114  0.92526938 0.92214112\n",
      " 0.93013556 0.92631213 0.93813    0.92909281]\n"
     ]
    }
   ],
   "source": [
    "accuracies4 = kfcv(ab_kf , X , y) \n",
    "print(f'AdaBoost: \\n Mean Accuracy {accuracies4.mean()} \\n Minimum Accuracy {accuracies4.min()} \\n Maximum Accuracy {accuracies4.max()} \\n Accuracies: {accuracies4}')"
   ]
  },
  {
   "cell_type": "markdown",
   "metadata": {},
   "source": [
    "## 6.4 Defining Functions<a id='fun'></a>\n",
    "\n",
    "Helper Functions"
   ]
  },
  {
   "cell_type": "code",
   "execution_count": 65,
   "metadata": {},
   "outputs": [],
   "source": [
    "plt.rcParams['figure.figsize'] = [9,8]"
   ]
  },
  {
   "cell_type": "markdown",
   "metadata": {},
   "source": [
    "### 6.4.1 Confusion Matrix <a id='matrix'></a>"
   ]
  },
  {
   "cell_type": "code",
   "execution_count": 66,
   "metadata": {
    "execution": {
     "iopub.execute_input": "2022-04-29T07:15:21.477878Z",
     "iopub.status.busy": "2022-04-29T07:15:21.477193Z",
     "iopub.status.idle": "2022-04-29T07:15:21.485045Z",
     "shell.execute_reply": "2022-04-29T07:15:21.484091Z",
     "shell.execute_reply.started": "2022-04-29T07:15:21.477841Z"
    }
   },
   "outputs": [],
   "source": [
    "def confusion_matrix_plot(model):\n",
    "    ypred = model.predict(X_test)\n",
    "    cm = confusion_matrix(y_test, ypred)\n",
    "    cm = np.rot90(cm , 2)\n",
    "    conf_matrix = pd.DataFrame(data = cm,columns = ['Predicted:1','Predicted:0'], index = ['Actual:1','Actual:0'])\n",
    "    sns.heatmap(conf_matrix, annot = True, fmt = 'd', cbar = False, \n",
    "                linewidths = 0.1, annot_kws = {'size':20})\n",
    "    plt.xticks(fontsize = 20)\n",
    "    plt.yticks(fontsize = 20)\n",
    "    plt.show()"
   ]
  },
  {
   "cell_type": "markdown",
   "metadata": {},
   "source": [
    "### 6.4.2 ROC Curve <a id='roc'></a>"
   ]
  },
  {
   "cell_type": "code",
   "execution_count": 67,
   "metadata": {
    "execution": {
     "iopub.execute_input": "2022-04-29T05:39:36.679592Z",
     "iopub.status.busy": "2022-04-29T05:39:36.678641Z",
     "iopub.status.idle": "2022-04-29T05:39:36.686806Z",
     "shell.execute_reply": "2022-04-29T05:39:36.686224Z",
     "shell.execute_reply.started": "2022-04-29T05:39:36.679523Z"
    }
   },
   "outputs": [],
   "source": [
    "def roc_plot(model):\n",
    "    y_pred_prob = model.predict_proba(X_test)[:,1]\n",
    "    fpr, tpr, thresholds = roc_curve(y_test, y_pred_prob)\n",
    "    plt.plot(fpr, tpr)\n",
    "    plt.xlim([0.0, 1.0])\n",
    "    plt.ylim([0.0, 1.0])\n",
    "    plt.plot([0, 1], [0, 1],'r--')\n",
    "    plt.title('ROC curve', fontsize = 15)\n",
    "    plt.xlabel('False positive rate (1-Specificity)', fontsize = 15)\n",
    "    plt.ylabel('True positive rate (Sensitivity)', fontsize = 15)\n",
    "    plt.text(x = 0.02, y = 0.9, s = ('AUC Score:',round(roc_auc_score(y_test, y_pred_prob),4)))\n",
    "    plt.grid(True)"
   ]
  },
  {
   "cell_type": "markdown",
   "metadata": {},
   "source": [
    "### 6.4.3 Classification Report <a id='report'></a>"
   ]
  },
  {
   "cell_type": "code",
   "execution_count": 68,
   "metadata": {
    "execution": {
     "iopub.execute_input": "2022-04-29T05:39:39.437501Z",
     "iopub.status.busy": "2022-04-29T05:39:39.437027Z",
     "iopub.status.idle": "2022-04-29T05:39:39.442171Z",
     "shell.execute_reply": "2022-04-29T05:39:39.441621Z",
     "shell.execute_reply.started": "2022-04-29T05:39:39.437453Z"
    }
   },
   "outputs": [],
   "source": [
    "def creport(model):\n",
    "    ypred = model.predict(X_test)\n",
    "    cr = classification_report(y_test, ypred)\n",
    "    return cr"
   ]
  },
  {
   "cell_type": "markdown",
   "metadata": {},
   "source": [
    "### 6.4.4 Accuracy <a id='accuracy'></a>"
   ]
  },
  {
   "cell_type": "code",
   "execution_count": 69,
   "metadata": {
    "execution": {
     "iopub.execute_input": "2022-04-29T05:39:41.491043Z",
     "iopub.status.busy": "2022-04-29T05:39:41.490717Z",
     "iopub.status.idle": "2022-04-29T05:39:41.496083Z",
     "shell.execute_reply": "2022-04-29T05:39:41.495093Z",
     "shell.execute_reply.started": "2022-04-29T05:39:41.491011Z"
    }
   },
   "outputs": [],
   "source": [
    "def accuracy(y_test , ypred):\n",
    "    auc = accuracy_score(y_test , ypred)\n",
    "    return auc"
   ]
  },
  {
   "cell_type": "markdown",
   "metadata": {},
   "source": [
    "### 6.4.5 F1 Score <a id='f1'></a>"
   ]
  },
  {
   "cell_type": "code",
   "execution_count": 70,
   "metadata": {
    "execution": {
     "iopub.execute_input": "2022-04-29T05:39:44.180065Z",
     "iopub.status.busy": "2022-04-29T05:39:44.179264Z",
     "iopub.status.idle": "2022-04-29T05:39:44.183745Z",
     "shell.execute_reply": "2022-04-29T05:39:44.183120Z",
     "shell.execute_reply.started": "2022-04-29T05:39:44.180023Z"
    }
   },
   "outputs": [],
   "source": [
    "def f1(y_test , ypred):\n",
    "    f = f1_score(y_test, ypred, average='macro')\n",
    "    return f"
   ]
  },
  {
   "cell_type": "markdown",
   "metadata": {},
   "source": [
    "# 7. Model Building <a id='bui_mod'></a>"
   ]
  },
  {
   "cell_type": "markdown",
   "metadata": {},
   "source": [
    "## 7.1 Logistic Regression <a id='logreg'></a>"
   ]
  },
  {
   "cell_type": "code",
   "execution_count": 71,
   "metadata": {
    "execution": {
     "iopub.execute_input": "2022-04-29T05:39:50.722768Z",
     "iopub.status.busy": "2022-04-29T05:39:50.722259Z",
     "iopub.status.idle": "2022-04-29T05:39:50.801978Z",
     "shell.execute_reply": "2022-04-29T05:39:50.801066Z",
     "shell.execute_reply.started": "2022-04-29T05:39:50.722729Z"
    }
   },
   "outputs": [
    {
     "data": {
      "text/plain": [
       "LogisticRegression(random_state=0)"
      ]
     },
     "execution_count": 71,
     "metadata": {},
     "output_type": "execute_result"
    }
   ],
   "source": [
    "logistic_model = LogisticRegression(random_state=0, penalty = 'l2')\n",
    "logistic_model.fit(X_train,y_train)"
   ]
  },
  {
   "cell_type": "code",
   "execution_count": 72,
   "metadata": {
    "execution": {
     "iopub.execute_input": "2022-04-29T05:40:46.655399Z",
     "iopub.status.busy": "2022-04-29T05:40:46.654849Z",
     "iopub.status.idle": "2022-04-29T05:40:46.811858Z",
     "shell.execute_reply": "2022-04-29T05:40:46.810672Z",
     "shell.execute_reply.started": "2022-04-29T05:40:46.655362Z"
    }
   },
   "outputs": [
    {
     "data": {
      "image/png": "[encoded data removed]",
      "text/plain": [
       "<Figure size 648x576 with 1 Axes>"
      ]
     },
     "metadata": {
      "needs_background": "light"
     },
     "output_type": "display_data"
    }
   ],
   "source": [
    "confusion_matrix_plot(logistic_model)"
   ]
  },
  {
   "cell_type": "code",
   "execution_count": 73,
   "metadata": {
    "execution": {
     "iopub.execute_input": "2022-04-29T05:41:32.063818Z",
     "iopub.status.busy": "2022-04-29T05:41:32.063248Z",
     "iopub.status.idle": "2022-04-29T05:41:32.304843Z",
     "shell.execute_reply": "2022-04-29T05:41:32.303719Z",
     "shell.execute_reply.started": "2022-04-29T05:41:32.063783Z"
    }
   },
   "outputs": [
    {
     "data": {
      "image/png": "[encoded data removed]",
      "text/plain": [
       "<Figure size 648x576 with 1 Axes>"
      ]
     },
     "metadata": {
      "needs_background": "light"
     },
     "output_type": "display_data"
    }
   ],
   "source": [
    "roc_plot(logistic_model)"
   ]
  },
  {
   "cell_type": "code",
   "execution_count": 74,
   "metadata": {
    "execution": {
     "iopub.execute_input": "2022-04-29T05:41:35.729531Z",
     "iopub.status.busy": "2022-04-29T05:41:35.728974Z",
     "iopub.status.idle": "2022-04-29T05:41:35.765849Z",
     "shell.execute_reply": "2022-04-29T05:41:35.764806Z",
     "shell.execute_reply.started": "2022-04-29T05:41:35.729496Z"
    }
   },
   "outputs": [
    {
     "name": "stdout",
     "output_type": "stream",
     "text": [
      "              precision    recall  f1-score   support\n",
      "\n",
      "           0       0.84      0.85      0.84      2551\n",
      "           1       0.88      0.87      0.87      3204\n",
      "\n",
      "    accuracy                           0.86      5755\n",
      "   macro avg       0.86      0.86      0.86      5755\n",
      "weighted avg       0.86      0.86      0.86      5755\n",
      "\n"
     ]
    }
   ],
   "source": [
    "print(creport(logistic_model))"
   ]
  },
  {
   "cell_type": "markdown",
   "metadata": {},
   "source": [
    "## 7.2 Naive Bayes   <a id='bayes'></a>"
   ]
  },
  {
   "cell_type": "code",
   "execution_count": 75,
   "metadata": {
    "execution": {
     "iopub.execute_input": "2022-04-29T05:42:23.468118Z",
     "iopub.status.busy": "2022-04-29T05:42:23.467774Z",
     "iopub.status.idle": "2022-04-29T05:42:23.485635Z",
     "shell.execute_reply": "2022-04-29T05:42:23.484680Z",
     "shell.execute_reply.started": "2022-04-29T05:42:23.468080Z"
    }
   },
   "outputs": [
    {
     "data": {
      "text/plain": [
       "GaussianNB()"
      ]
     },
     "execution_count": 75,
     "metadata": {},
     "output_type": "execute_result"
    }
   ],
   "source": [
    "gnb = GaussianNB()\n",
    "gnb.fit(X_train,y_train)"
   ]
  },
  {
   "cell_type": "code",
   "execution_count": 76,
   "metadata": {
    "execution": {
     "iopub.execute_input": "2022-04-29T05:42:26.128246Z",
     "iopub.status.busy": "2022-04-29T05:42:26.127697Z",
     "iopub.status.idle": "2022-04-29T05:42:26.271731Z",
     "shell.execute_reply": "2022-04-29T05:42:26.270490Z",
     "shell.execute_reply.started": "2022-04-29T05:42:26.128210Z"
    }
   },
   "outputs": [
    {
     "data": {
      "image/png": "[encoded data removed]",
      "text/plain": [
       "<Figure size 648x576 with 1 Axes>"
      ]
     },
     "metadata": {
      "needs_background": "light"
     },
     "output_type": "display_data"
    }
   ],
   "source": [
    "confusion_matrix_plot(gnb)"
   ]
  },
  {
   "cell_type": "code",
   "execution_count": 77,
   "metadata": {
    "execution": {
     "iopub.execute_input": "2022-04-29T05:42:30.737343Z",
     "iopub.status.busy": "2022-04-29T05:42:30.737005Z",
     "iopub.status.idle": "2022-04-29T05:42:30.962945Z",
     "shell.execute_reply": "2022-04-29T05:42:30.962059Z",
     "shell.execute_reply.started": "2022-04-29T05:42:30.737292Z"
    }
   },
   "outputs": [
    {
     "data": {
      "image/png": "[encoded data removed]",
      "text/plain": [
       "<Figure size 648x576 with 1 Axes>"
      ]
     },
     "metadata": {
      "needs_background": "light"
     },
     "output_type": "display_data"
    }
   ],
   "source": [
    "roc_plot(gnb)"
   ]
  },
  {
   "cell_type": "code",
   "execution_count": 78,
   "metadata": {
    "execution": {
     "iopub.execute_input": "2022-04-29T05:42:35.136426Z",
     "iopub.status.busy": "2022-04-29T05:42:35.135508Z",
     "iopub.status.idle": "2022-04-29T05:42:35.159797Z",
     "shell.execute_reply": "2022-04-29T05:42:35.158877Z",
     "shell.execute_reply.started": "2022-04-29T05:42:35.136385Z"
    }
   },
   "outputs": [
    {
     "name": "stdout",
     "output_type": "stream",
     "text": [
      "              precision    recall  f1-score   support\n",
      "\n",
      "           0       0.84      0.86      0.85      2551\n",
      "           1       0.88      0.87      0.88      3204\n",
      "\n",
      "    accuracy                           0.87      5755\n",
      "   macro avg       0.86      0.86      0.86      5755\n",
      "weighted avg       0.87      0.87      0.87      5755\n",
      "\n"
     ]
    }
   ],
   "source": [
    "print(creport(gnb))"
   ]
  },
  {
   "cell_type": "markdown",
   "metadata": {},
   "source": [
    "## 7.3 K nearest neighbors (KNN)   <a id='knn'></a>"
   ]
  },
  {
   "cell_type": "code",
   "execution_count": 79,
   "metadata": {
    "execution": {
     "iopub.execute_input": "2022-04-29T05:42:40.890732Z",
     "iopub.status.busy": "2022-04-29T05:42:40.889842Z",
     "iopub.status.idle": "2022-04-29T05:42:40.942265Z",
     "shell.execute_reply": "2022-04-29T05:42:40.941630Z",
     "shell.execute_reply.started": "2022-04-29T05:42:40.890685Z"
    }
   },
   "outputs": [
    {
     "data": {
      "text/plain": [
       "KNeighborsClassifier(n_neighbors=11)"
      ]
     },
     "execution_count": 79,
     "metadata": {},
     "output_type": "execute_result"
    }
   ],
   "source": [
    "knn = KNeighborsClassifier(n_neighbors= 11)\n",
    "knn.fit(X_train, y_train)"
   ]
  },
  {
   "cell_type": "code",
   "execution_count": 80,
   "metadata": {
    "execution": {
     "iopub.execute_input": "2022-04-29T05:42:42.497476Z",
     "iopub.status.busy": "2022-04-29T05:42:42.496571Z",
     "iopub.status.idle": "2022-04-29T05:42:43.910265Z",
     "shell.execute_reply": "2022-04-29T05:42:43.909382Z",
     "shell.execute_reply.started": "2022-04-29T05:42:42.497434Z"
    }
   },
   "outputs": [
    {
     "data": {
      "image/png": "[encoded data removed]",
      "text/plain": [
       "<Figure size 648x576 with 1 Axes>"
      ]
     },
     "metadata": {
      "needs_background": "light"
     },
     "output_type": "display_data"
    }
   ],
   "source": [
    "confusion_matrix_plot(knn)"
   ]
  },
  {
   "cell_type": "code",
   "execution_count": 81,
   "metadata": {
    "execution": {
     "iopub.execute_input": "2022-04-29T05:42:47.041190Z",
     "iopub.status.busy": "2022-04-29T05:42:47.040289Z",
     "iopub.status.idle": "2022-04-29T05:42:48.410398Z",
     "shell.execute_reply": "2022-04-29T05:42:48.409280Z",
     "shell.execute_reply.started": "2022-04-29T05:42:47.041137Z"
    }
   },
   "outputs": [
    {
     "data": {
      "image/png": "[encoded data removed]",
      "text/plain": [
       "<Figure size 648x576 with 1 Axes>"
      ]
     },
     "metadata": {
      "needs_background": "light"
     },
     "output_type": "display_data"
    }
   ],
   "source": [
    "roc_plot(knn)"
   ]
  },
  {
   "cell_type": "code",
   "execution_count": 82,
   "metadata": {
    "execution": {
     "iopub.execute_input": "2022-04-29T05:42:48.838796Z",
     "iopub.status.busy": "2022-04-29T05:42:48.837780Z",
     "iopub.status.idle": "2022-04-29T05:42:50.087705Z",
     "shell.execute_reply": "2022-04-29T05:42:50.086766Z",
     "shell.execute_reply.started": "2022-04-29T05:42:48.838752Z"
    }
   },
   "outputs": [
    {
     "name": "stdout",
     "output_type": "stream",
     "text": [
      "              precision    recall  f1-score   support\n",
      "\n",
      "           0       0.92      0.88      0.90      2551\n",
      "           1       0.91      0.94      0.92      3204\n",
      "\n",
      "    accuracy                           0.91      5755\n",
      "   macro avg       0.91      0.91      0.91      5755\n",
      "weighted avg       0.91      0.91      0.91      5755\n",
      "\n"
     ]
    }
   ],
   "source": [
    "print(creport(knn))"
   ]
  },
  {
   "cell_type": "markdown",
   "metadata": {},
   "source": [
    "## 7.4 Random Forest <a id='forest'></a>"
   ]
  },
  {
   "cell_type": "code",
   "execution_count": 83,
   "metadata": {
    "execution": {
     "iopub.execute_input": "2022-04-29T05:42:59.711157Z",
     "iopub.status.busy": "2022-04-29T05:42:59.710842Z",
     "iopub.status.idle": "2022-04-29T05:43:03.142775Z",
     "shell.execute_reply": "2022-04-29T05:43:03.141790Z",
     "shell.execute_reply.started": "2022-04-29T05:42:59.711119Z"
    }
   },
   "outputs": [
    {
     "data": {
      "text/plain": [
       "RandomForestClassifier(max_depth=3, max_features='sqrt', n_estimators=300,\n",
       "                       random_state=0)"
      ]
     },
     "execution_count": 83,
     "metadata": {},
     "output_type": "execute_result"
    }
   ],
   "source": [
    "rf = RandomForestClassifier(max_depth=3, random_state=0 , criterion= 'gini' , max_features='sqrt' , min_samples_split= 2 , n_estimators= 300)\n",
    "rf.fit(X_train , y_train)"
   ]
  },
  {
   "cell_type": "code",
   "execution_count": 84,
   "metadata": {
    "execution": {
     "iopub.execute_input": "2022-04-29T05:43:03.144649Z",
     "iopub.status.busy": "2022-04-29T05:43:03.144394Z",
     "iopub.status.idle": "2022-04-29T05:43:03.424169Z",
     "shell.execute_reply": "2022-04-29T05:43:03.423167Z",
     "shell.execute_reply.started": "2022-04-29T05:43:03.144618Z"
    }
   },
   "outputs": [
    {
     "data": {
      "image/png": "[encoded data removed]",
      "text/plain": [
       "<Figure size 648x576 with 1 Axes>"
      ]
     },
     "metadata": {
      "needs_background": "light"
     },
     "output_type": "display_data"
    }
   ],
   "source": [
    "confusion_matrix_plot(rf)"
   ]
  },
  {
   "cell_type": "code",
   "execution_count": 85,
   "metadata": {
    "execution": {
     "iopub.execute_input": "2022-04-29T05:43:15.536842Z",
     "iopub.status.busy": "2022-04-29T05:43:15.536286Z",
     "iopub.status.idle": "2022-04-29T05:43:15.893897Z",
     "shell.execute_reply": "2022-04-29T05:43:15.892853Z",
     "shell.execute_reply.started": "2022-04-29T05:43:15.536809Z"
    }
   },
   "outputs": [
    {
     "data": {
      "image/png": "[encoded data removed]",
      "text/plain": [
       "<Figure size 648x576 with 1 Axes>"
      ]
     },
     "metadata": {
      "needs_background": "light"
     },
     "output_type": "display_data"
    }
   ],
   "source": [
    "roc_plot(rf)"
   ]
  },
  {
   "cell_type": "code",
   "execution_count": 86,
   "metadata": {
    "execution": {
     "iopub.execute_input": "2022-04-29T05:43:20.637893Z",
     "iopub.status.busy": "2022-04-29T05:43:20.637576Z",
     "iopub.status.idle": "2022-04-29T05:43:20.796882Z",
     "shell.execute_reply": "2022-04-29T05:43:20.795887Z",
     "shell.execute_reply.started": "2022-04-29T05:43:20.637857Z"
    }
   },
   "outputs": [
    {
     "name": "stdout",
     "output_type": "stream",
     "text": [
      "              precision    recall  f1-score   support\n",
      "\n",
      "           0       0.93      0.92      0.92      2551\n",
      "           1       0.94      0.94      0.94      3204\n",
      "\n",
      "    accuracy                           0.93      5755\n",
      "   macro avg       0.93      0.93      0.93      5755\n",
      "weighted avg       0.93      0.93      0.93      5755\n",
      "\n"
     ]
    }
   ],
   "source": [
    "print(creport(rf))"
   ]
  },
  {
   "cell_type": "markdown",
   "metadata": {},
   "source": [
    "## 7.5 AdaBoost <a id='adaboost'></a>"
   ]
  },
  {
   "cell_type": "code",
   "execution_count": 87,
   "metadata": {
    "execution": {
     "iopub.execute_input": "2022-04-29T05:44:50.971874Z",
     "iopub.status.busy": "2022-04-29T05:44:50.971564Z",
     "iopub.status.idle": "2022-04-29T05:44:56.644397Z",
     "shell.execute_reply": "2022-04-29T05:44:56.643402Z",
     "shell.execute_reply.started": "2022-04-29T05:44:50.971843Z"
    }
   },
   "outputs": [
    {
     "data": {
      "text/plain": [
       "AdaBoostClassifier(learning_rate=0.01, n_estimators=250, random_state=0)"
      ]
     },
     "execution_count": 87,
     "metadata": {},
     "output_type": "execute_result"
    }
   ],
   "source": [
    "ab = AdaBoostClassifier(n_estimators=250, learning_rate = 0.01, random_state=0)\n",
    "ab.fit(X_train , y_train)"
   ]
  },
  {
   "cell_type": "code",
   "execution_count": 88,
   "metadata": {
    "execution": {
     "iopub.execute_input": "2022-04-29T05:44:56.647410Z",
     "iopub.status.busy": "2022-04-29T05:44:56.645909Z",
     "iopub.status.idle": "2022-04-29T05:44:56.990921Z",
     "shell.execute_reply": "2022-04-29T05:44:56.989990Z",
     "shell.execute_reply.started": "2022-04-29T05:44:56.647360Z"
    }
   },
   "outputs": [
    {
     "data": {
      "image/png": "[encoded data removed]",
      "text/plain": [
       "<Figure size 648x576 with 1 Axes>"
      ]
     },
     "metadata": {
      "needs_background": "light"
     },
     "output_type": "display_data"
    }
   ],
   "source": [
    "confusion_matrix_plot(ab)"
   ]
  },
  {
   "cell_type": "code",
   "execution_count": 89,
   "metadata": {
    "execution": {
     "iopub.execute_input": "2022-04-29T05:43:41.845395Z",
     "iopub.status.busy": "2022-04-29T05:43:41.844508Z",
     "iopub.status.idle": "2022-04-29T05:43:42.263576Z",
     "shell.execute_reply": "2022-04-29T05:43:42.262536Z",
     "shell.execute_reply.started": "2022-04-29T05:43:41.845343Z"
    }
   },
   "outputs": [
    {
     "data": {
      "image/png": "[encoded data removed]",
      "text/plain": [
       "<Figure size 648x576 with 1 Axes>"
      ]
     },
     "metadata": {
      "needs_background": "light"
     },
     "output_type": "display_data"
    }
   ],
   "source": [
    "roc_plot(ab)"
   ]
  },
  {
   "cell_type": "code",
   "execution_count": 90,
   "metadata": {
    "execution": {
     "iopub.execute_input": "2022-04-29T05:45:03.282143Z",
     "iopub.status.busy": "2022-04-29T05:45:03.281476Z",
     "iopub.status.idle": "2022-04-29T05:45:03.504671Z",
     "shell.execute_reply": "2022-04-29T05:45:03.503688Z",
     "shell.execute_reply.started": "2022-04-29T05:45:03.282108Z"
    }
   },
   "outputs": [
    {
     "name": "stdout",
     "output_type": "stream",
     "text": [
      "              precision    recall  f1-score   support\n",
      "\n",
      "           0       0.93      0.91      0.92      2551\n",
      "           1       0.93      0.94      0.94      3204\n",
      "\n",
      "    accuracy                           0.93      5755\n",
      "   macro avg       0.93      0.93      0.93      5755\n",
      "weighted avg       0.93      0.93      0.93      5755\n",
      "\n"
     ]
    }
   ],
   "source": [
    "print(creport(ab))"
   ]
  },
  {
   "cell_type": "markdown",
   "metadata": {},
   "source": [
    "# 8. Model Performance <a id='mod_per'></a>"
   ]
  },
  {
   "cell_type": "markdown",
   "metadata": {},
   "source": [
    "**Comparison of Different Models**"
   ]
  },
  {
   "cell_type": "markdown",
   "metadata": {},
   "source": [
    "Training Set Predictions"
   ]
  },
  {
   "cell_type": "code",
   "execution_count": 92,
   "metadata": {
    "execution": {
     "iopub.execute_input": "2022-04-29T05:45:23.932616Z",
     "iopub.status.busy": "2022-04-29T05:45:23.932346Z",
     "iopub.status.idle": "2022-04-29T05:45:30.404977Z",
     "shell.execute_reply": "2022-04-29T05:45:30.404267Z",
     "shell.execute_reply.started": "2022-04-29T05:45:23.932589Z"
    }
   },
   "outputs": [],
   "source": [
    "y_predtr = logistic_model.predict(X_train)\n",
    "y_pred1tr = gnb.predict(X_train)\n",
    "y_pred2tr = knn.predict(X_train)\n",
    "y_pred3tr = rf.predict(X_train)\n",
    "y_pred4tr = ab.predict(X_train)\n"
   ]
  },
  {
   "cell_type": "markdown",
   "metadata": {},
   "source": [
    "Test Set Predictions"
   ]
  },
  {
   "cell_type": "code",
   "execution_count": 94,
   "metadata": {
    "execution": {
     "iopub.execute_input": "2022-04-29T05:45:30.407353Z",
     "iopub.status.busy": "2022-04-29T05:45:30.406838Z",
     "iopub.status.idle": "2022-04-29T05:45:32.164251Z",
     "shell.execute_reply": "2022-04-29T05:45:32.163262Z",
     "shell.execute_reply.started": "2022-04-29T05:45:30.407293Z"
    }
   },
   "outputs": [],
   "source": [
    "y_pred = logistic_model.predict(X_test)\n",
    "y_pred1 = gnb.predict(X_test)\n",
    "y_pred2 = knn.predict(X_test)\n",
    "y_pred3 = rf.predict(X_test)\n",
    "y_pred4 = ab.predict(X_test)\n"
   ]
  },
  {
   "cell_type": "code",
   "execution_count": 98,
   "metadata": {
    "execution": {
     "iopub.execute_input": "2022-04-29T05:45:32.166499Z",
     "iopub.status.busy": "2022-04-29T05:45:32.165688Z",
     "iopub.status.idle": "2022-04-29T05:45:32.214746Z",
     "shell.execute_reply": "2022-04-29T05:45:32.213729Z",
     "shell.execute_reply.started": "2022-04-29T05:45:32.166444Z"
    }
   },
   "outputs": [
    {
     "name": "stdout",
     "output_type": "stream",
     "text": [
      "                 Model  Train Accuracy  Test Accuracy  Test f1-Score\n",
      "0  Logistic Regression        0.857894       0.860469       0.858777\n",
      "1          Naive Bayes        0.862977       0.865334       0.863774\n",
      "2                  KNN        0.926883       0.911381       0.909854\n",
      "3        Random Forest        0.933313       0.932928       0.932015\n",
      "4             AdaBoost        0.930272       0.929105       0.928068\n"
     ]
    }
   ],
   "source": [
    "# Comparison of Different Models wrt Performance Metrics\n",
    "\n",
    "comp = pd.DataFrame({'Model':['Logistic Regression','Naive Bayes','KNN','Random Forest','AdaBoost'],\n",
    "                    'Train Accuracy':[accuracy(y_train,y_predtr), accuracy(y_train,y_pred1tr), accuracy(y_train,y_pred2tr), accuracy(y_train,y_pred3tr),\n",
    "                                      accuracy(y_train,y_pred4tr)],\n",
    "                    'Test Accuracy':[accuracy(y_test,y_pred), accuracy(y_test,y_pred1), accuracy(y_test,y_pred2), accuracy(y_test,y_pred3),\n",
    "                                      accuracy(y_test,y_pred4)],\n",
    "                    'Test f1-Score':[f1(y_test,y_pred), f1(y_test,y_pred1), f1(y_test,y_pred2), f1(y_test,y_pred3),\n",
    "                                      f1(y_test,y_pred4)]}\n",
    "                    )\n",
    "\n",
    "print(comp)"
   ]
  },
  {
   "cell_type": "code",
   "execution_count": null,
   "metadata": {},
   "outputs": [],
   "source": []
  }
 ],
 "metadata": {
  "kernelspec": {
   "display_name": "Python 3 (ipykernel)",
   "language": "python",
   "name": "python3"
  },
  "language_info": {
   "codemirror_mode": {
    "name": "ipython",
    "version": 3
   },
   "file_extension": ".py",
   "mimetype": "text/x-python",
   "name": "python",
   "nbconvert_exporter": "python",
   "pygments_lexer": "ipython3",
   "version": "3.9.7"
  }
 },
 "nbformat": 4,
 "nbformat_minor": 4
}
